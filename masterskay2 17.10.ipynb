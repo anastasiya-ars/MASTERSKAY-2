{
 "cells": [
  {
   "cell_type": "markdown",
   "id": "0fd9f575",
   "metadata": {
    "toc": true
   },
   "source": [
    "<h1>Table of Contents<span class=\"tocSkip\"></span></h1>\n",
    "<div class=\"toc\"><ul class=\"toc-item\"><li><span><a href=\"#Base\" data-toc-modified-id=\"Base-1\"><span class=\"toc-item-num\">1&nbsp;&nbsp;</span>Base</a></span></li><li><span><a href=\"#Train\" data-toc-modified-id=\"Train-2\"><span class=\"toc-item-num\">2&nbsp;&nbsp;</span>Train</a></span></li><li><span><a href=\"#Create-Index\" data-toc-modified-id=\"Create-Index-3\"><span class=\"toc-item-num\">3&nbsp;&nbsp;</span>Create Index</a></span></li><li><span><a href=\"#Поиск\" data-toc-modified-id=\"Поиск-4\"><span class=\"toc-item-num\">4&nbsp;&nbsp;</span>Поиск</a></span></li><li><span><a href=\"#new-train-DataFrame\" data-toc-modified-id=\"new-train-DataFrame-5\"><span class=\"toc-item-num\">5&nbsp;&nbsp;</span>new train DataFrame</a></span></li><li><span><a href=\"#Desicion-Tree\" data-toc-modified-id=\"Desicion-Tree-6\"><span class=\"toc-item-num\">6&nbsp;&nbsp;</span>Desicion Tree</a></span></li><li><span><a href=\"#New-Features\" data-toc-modified-id=\"New-Features-7\"><span class=\"toc-item-num\">7&nbsp;&nbsp;</span>New Features</a></span></li></ul></div>"
   ]
  },
  {
   "cell_type": "code",
   "execution_count": 1,
   "id": "7bc08db2",
   "metadata": {},
   "outputs": [
    {
     "name": "stdout",
     "output_type": "stream",
     "text": [
      "Requirement already satisfied: faiss-cpu in c:\\users\\lassa\\anaconda3\\lib\\site-packages (1.7.4)\n"
     ]
    }
   ],
   "source": [
    "!pip install faiss-cpu"
   ]
  },
  {
   "cell_type": "code",
   "execution_count": 2,
   "id": "3f61fa6a",
   "metadata": {},
   "outputs": [
    {
     "name": "stdout",
     "output_type": "stream",
     "text": [
      "Requirement already satisfied: catboost in c:\\users\\lassa\\anaconda3\\lib\\site-packages (1.2.2)\n",
      "Requirement already satisfied: graphviz in c:\\users\\lassa\\anaconda3\\lib\\site-packages (from catboost) (0.20.1)\n",
      "Requirement already satisfied: matplotlib in c:\\users\\lassa\\anaconda3\\lib\\site-packages (from catboost) (3.7.2)\n",
      "Requirement already satisfied: numpy>=1.16.0 in c:\\users\\lassa\\anaconda3\\lib\\site-packages (from catboost) (1.24.3)\n",
      "Requirement already satisfied: pandas>=0.24 in c:\\users\\lassa\\anaconda3\\lib\\site-packages (from catboost) (2.0.3)\n",
      "Requirement already satisfied: scipy in c:\\users\\lassa\\anaconda3\\lib\\site-packages (from catboost) (1.11.1)\n",
      "Requirement already satisfied: plotly in c:\\users\\lassa\\anaconda3\\lib\\site-packages (from catboost) (5.9.0)\n",
      "Requirement already satisfied: six in c:\\users\\lassa\\anaconda3\\lib\\site-packages (from catboost) (1.16.0)\n",
      "Requirement already satisfied: python-dateutil>=2.8.2 in c:\\users\\lassa\\anaconda3\\lib\\site-packages (from pandas>=0.24->catboost) (2.8.2)\n",
      "Requirement already satisfied: pytz>=2020.1 in c:\\users\\lassa\\anaconda3\\lib\\site-packages (from pandas>=0.24->catboost) (2023.3.post1)\n",
      "Requirement already satisfied: tzdata>=2022.1 in c:\\users\\lassa\\anaconda3\\lib\\site-packages (from pandas>=0.24->catboost) (2023.3)\n",
      "Requirement already satisfied: contourpy>=1.0.1 in c:\\users\\lassa\\anaconda3\\lib\\site-packages (from matplotlib->catboost) (1.0.5)\n",
      "Requirement already satisfied: cycler>=0.10 in c:\\users\\lassa\\anaconda3\\lib\\site-packages (from matplotlib->catboost) (0.11.0)\n",
      "Requirement already satisfied: fonttools>=4.22.0 in c:\\users\\lassa\\anaconda3\\lib\\site-packages (from matplotlib->catboost) (4.25.0)\n",
      "Requirement already satisfied: kiwisolver>=1.0.1 in c:\\users\\lassa\\anaconda3\\lib\\site-packages (from matplotlib->catboost) (1.4.4)\n",
      "Requirement already satisfied: packaging>=20.0 in c:\\users\\lassa\\anaconda3\\lib\\site-packages (from matplotlib->catboost) (23.1)\n",
      "Requirement already satisfied: pillow>=6.2.0 in c:\\users\\lassa\\anaconda3\\lib\\site-packages (from matplotlib->catboost) (9.4.0)\n",
      "Requirement already satisfied: pyparsing<3.1,>=2.3.1 in c:\\users\\lassa\\anaconda3\\lib\\site-packages (from matplotlib->catboost) (3.0.9)\n",
      "Requirement already satisfied: tenacity>=6.2.0 in c:\\users\\lassa\\anaconda3\\lib\\site-packages (from plotly->catboost) (8.2.2)\n"
     ]
    }
   ],
   "source": [
    "!pip install catboost"
   ]
  },
  {
   "cell_type": "code",
   "execution_count": 3,
   "id": "48004da1",
   "metadata": {},
   "outputs": [],
   "source": [
    "import pandas as pd\n",
    "import numpy as np\n",
    "import matplotlib.pyplot as plt\n",
    "import faiss\n",
    "from tqdm.notebook import tqdm\n",
    "\n",
    "from sklearn.preprocessing import StandardScaler\n",
    "from sklearn.ensemble import RandomForestClassifier\n",
    "from sklearn.tree import DecisionTreeClassifier\n",
    "from sklearn.model_selection import train_test_split\n",
    "from sklearn.metrics import accuracy_score\n",
    "\n",
    "RANDOM_S = 12345"
   ]
  },
  {
   "cell_type": "markdown",
   "id": "6cced184",
   "metadata": {},
   "source": [
    "## Base"
   ]
  },
  {
   "cell_type": "code",
   "execution_count": 4,
   "id": "58aefdca",
   "metadata": {},
   "outputs": [],
   "source": [
    "base = pd.read_csv('base.csv')"
   ]
  },
  {
   "cell_type": "code",
   "execution_count": 5,
   "id": "c19b1ae4",
   "metadata": {
    "scrolled": true
   },
   "outputs": [
    {
     "name": "stdout",
     "output_type": "stream",
     "text": [
      "<class 'pandas.core.frame.DataFrame'>\n",
      "RangeIndex: 2918139 entries, 0 to 2918138\n",
      "Data columns (total 73 columns):\n",
      " #   Column  Dtype  \n",
      "---  ------  -----  \n",
      " 0   Id      object \n",
      " 1   0       float64\n",
      " 2   1       float64\n",
      " 3   2       float64\n",
      " 4   3       float64\n",
      " 5   4       float64\n",
      " 6   5       float64\n",
      " 7   6       float64\n",
      " 8   7       float64\n",
      " 9   8       float64\n",
      " 10  9       float64\n",
      " 11  10      float64\n",
      " 12  11      float64\n",
      " 13  12      float64\n",
      " 14  13      float64\n",
      " 15  14      float64\n",
      " 16  15      float64\n",
      " 17  16      float64\n",
      " 18  17      float64\n",
      " 19  18      float64\n",
      " 20  19      float64\n",
      " 21  20      float64\n",
      " 22  21      float64\n",
      " 23  22      float64\n",
      " 24  23      float64\n",
      " 25  24      float64\n",
      " 26  25      float64\n",
      " 27  26      float64\n",
      " 28  27      float64\n",
      " 29  28      float64\n",
      " 30  29      float64\n",
      " 31  30      float64\n",
      " 32  31      float64\n",
      " 33  32      float64\n",
      " 34  33      float64\n",
      " 35  34      float64\n",
      " 36  35      float64\n",
      " 37  36      float64\n",
      " 38  37      float64\n",
      " 39  38      float64\n",
      " 40  39      float64\n",
      " 41  40      float64\n",
      " 42  41      float64\n",
      " 43  42      float64\n",
      " 44  43      float64\n",
      " 45  44      float64\n",
      " 46  45      float64\n",
      " 47  46      float64\n",
      " 48  47      float64\n",
      " 49  48      float64\n",
      " 50  49      float64\n",
      " 51  50      float64\n",
      " 52  51      float64\n",
      " 53  52      float64\n",
      " 54  53      float64\n",
      " 55  54      float64\n",
      " 56  55      float64\n",
      " 57  56      float64\n",
      " 58  57      float64\n",
      " 59  58      float64\n",
      " 60  59      float64\n",
      " 61  60      float64\n",
      " 62  61      float64\n",
      " 63  62      float64\n",
      " 64  63      float64\n",
      " 65  64      float64\n",
      " 66  65      float64\n",
      " 67  66      float64\n",
      " 68  67      float64\n",
      " 69  68      float64\n",
      " 70  69      float64\n",
      " 71  70      float64\n",
      " 72  71      float64\n",
      "dtypes: float64(72), object(1)\n",
      "memory usage: 1.6+ GB\n"
     ]
    }
   ],
   "source": [
    "base.info()"
   ]
  },
  {
   "cell_type": "code",
   "execution_count": 6,
   "id": "8dceb54c",
   "metadata": {},
   "outputs": [],
   "source": [
    "num = base.copy().select_dtypes(exclude='object')\n",
    "num = num.columns.to_list()"
   ]
  },
  {
   "cell_type": "code",
   "execution_count": 7,
   "id": "28f1008d",
   "metadata": {},
   "outputs": [
    {
     "data": {
      "text/html": [
       "<style>#sk-container-id-1 {color: black;}#sk-container-id-1 pre{padding: 0;}#sk-container-id-1 div.sk-toggleable {background-color: white;}#sk-container-id-1 label.sk-toggleable__label {cursor: pointer;display: block;width: 100%;margin-bottom: 0;padding: 0.3em;box-sizing: border-box;text-align: center;}#sk-container-id-1 label.sk-toggleable__label-arrow:before {content: \"▸\";float: left;margin-right: 0.25em;color: #696969;}#sk-container-id-1 label.sk-toggleable__label-arrow:hover:before {color: black;}#sk-container-id-1 div.sk-estimator:hover label.sk-toggleable__label-arrow:before {color: black;}#sk-container-id-1 div.sk-toggleable__content {max-height: 0;max-width: 0;overflow: hidden;text-align: left;background-color: #f0f8ff;}#sk-container-id-1 div.sk-toggleable__content pre {margin: 0.2em;color: black;border-radius: 0.25em;background-color: #f0f8ff;}#sk-container-id-1 input.sk-toggleable__control:checked~div.sk-toggleable__content {max-height: 200px;max-width: 100%;overflow: auto;}#sk-container-id-1 input.sk-toggleable__control:checked~label.sk-toggleable__label-arrow:before {content: \"▾\";}#sk-container-id-1 div.sk-estimator input.sk-toggleable__control:checked~label.sk-toggleable__label {background-color: #d4ebff;}#sk-container-id-1 div.sk-label input.sk-toggleable__control:checked~label.sk-toggleable__label {background-color: #d4ebff;}#sk-container-id-1 input.sk-hidden--visually {border: 0;clip: rect(1px 1px 1px 1px);clip: rect(1px, 1px, 1px, 1px);height: 1px;margin: -1px;overflow: hidden;padding: 0;position: absolute;width: 1px;}#sk-container-id-1 div.sk-estimator {font-family: monospace;background-color: #f0f8ff;border: 1px dotted black;border-radius: 0.25em;box-sizing: border-box;margin-bottom: 0.5em;}#sk-container-id-1 div.sk-estimator:hover {background-color: #d4ebff;}#sk-container-id-1 div.sk-parallel-item::after {content: \"\";width: 100%;border-bottom: 1px solid gray;flex-grow: 1;}#sk-container-id-1 div.sk-label:hover label.sk-toggleable__label {background-color: #d4ebff;}#sk-container-id-1 div.sk-serial::before {content: \"\";position: absolute;border-left: 1px solid gray;box-sizing: border-box;top: 0;bottom: 0;left: 50%;z-index: 0;}#sk-container-id-1 div.sk-serial {display: flex;flex-direction: column;align-items: center;background-color: white;padding-right: 0.2em;padding-left: 0.2em;position: relative;}#sk-container-id-1 div.sk-item {position: relative;z-index: 1;}#sk-container-id-1 div.sk-parallel {display: flex;align-items: stretch;justify-content: center;background-color: white;position: relative;}#sk-container-id-1 div.sk-item::before, #sk-container-id-1 div.sk-parallel-item::before {content: \"\";position: absolute;border-left: 1px solid gray;box-sizing: border-box;top: 0;bottom: 0;left: 50%;z-index: -1;}#sk-container-id-1 div.sk-parallel-item {display: flex;flex-direction: column;z-index: 1;position: relative;background-color: white;}#sk-container-id-1 div.sk-parallel-item:first-child::after {align-self: flex-end;width: 50%;}#sk-container-id-1 div.sk-parallel-item:last-child::after {align-self: flex-start;width: 50%;}#sk-container-id-1 div.sk-parallel-item:only-child::after {width: 0;}#sk-container-id-1 div.sk-dashed-wrapped {border: 1px dashed gray;margin: 0 0.4em 0.5em 0.4em;box-sizing: border-box;padding-bottom: 0.4em;background-color: white;}#sk-container-id-1 div.sk-label label {font-family: monospace;font-weight: bold;display: inline-block;line-height: 1.2em;}#sk-container-id-1 div.sk-label-container {text-align: center;}#sk-container-id-1 div.sk-container {/* jupyter's `normalize.less` sets `[hidden] { display: none; }` but bootstrap.min.css set `[hidden] { display: none !important; }` so we also need the `!important` here to be able to override the default hidden behavior on the sphinx rendered scikit-learn.org. See: https://github.com/scikit-learn/scikit-learn/issues/21755 */display: inline-block !important;position: relative;}#sk-container-id-1 div.sk-text-repr-fallback {display: none;}</style><div id=\"sk-container-id-1\" class=\"sk-top-container\"><div class=\"sk-text-repr-fallback\"><pre>StandardScaler()</pre><b>In a Jupyter environment, please rerun this cell to show the HTML representation or trust the notebook. <br />On GitHub, the HTML representation is unable to render, please try loading this page with nbviewer.org.</b></div><div class=\"sk-container\" hidden><div class=\"sk-item\"><div class=\"sk-estimator sk-toggleable\"><input class=\"sk-toggleable__control sk-hidden--visually\" id=\"sk-estimator-id-1\" type=\"checkbox\" checked><label for=\"sk-estimator-id-1\" class=\"sk-toggleable__label sk-toggleable__label-arrow\">StandardScaler</label><div class=\"sk-toggleable__content\"><pre>StandardScaler()</pre></div></div></div></div></div>"
      ],
      "text/plain": [
       "StandardScaler()"
      ]
     },
     "execution_count": 7,
     "metadata": {},
     "output_type": "execute_result"
    }
   ],
   "source": [
    "# проведем масштабирование признаков товаров base:\n",
    "scaler = StandardScaler()\n",
    "scaler.fit(base[num])"
   ]
  },
  {
   "cell_type": "code",
   "execution_count": 8,
   "id": "2f909c3f",
   "metadata": {},
   "outputs": [],
   "source": [
    "base[num] = scaler.transform(base[num])"
   ]
  },
  {
   "cell_type": "code",
   "execution_count": 9,
   "id": "814a76b0",
   "metadata": {
    "scrolled": false
   },
   "outputs": [
    {
     "data": {
      "text/plain": [
       "array([[<Axes: title={'center': '0'}>, <Axes: title={'center': '1'}>,\n",
       "        <Axes: title={'center': '2'}>, <Axes: title={'center': '3'}>,\n",
       "        <Axes: title={'center': '4'}>, <Axes: title={'center': '5'}>,\n",
       "        <Axes: title={'center': '6'}>, <Axes: title={'center': '7'}>],\n",
       "       [<Axes: title={'center': '8'}>, <Axes: title={'center': '9'}>,\n",
       "        <Axes: title={'center': '10'}>, <Axes: title={'center': '11'}>,\n",
       "        <Axes: title={'center': '12'}>, <Axes: title={'center': '13'}>,\n",
       "        <Axes: title={'center': '14'}>, <Axes: title={'center': '15'}>],\n",
       "       [<Axes: title={'center': '16'}>, <Axes: title={'center': '17'}>,\n",
       "        <Axes: title={'center': '18'}>, <Axes: title={'center': '19'}>,\n",
       "        <Axes: title={'center': '20'}>, <Axes: title={'center': '21'}>,\n",
       "        <Axes: title={'center': '22'}>, <Axes: title={'center': '23'}>],\n",
       "       [<Axes: title={'center': '24'}>, <Axes: title={'center': '25'}>,\n",
       "        <Axes: title={'center': '26'}>, <Axes: title={'center': '27'}>,\n",
       "        <Axes: title={'center': '28'}>, <Axes: title={'center': '29'}>,\n",
       "        <Axes: title={'center': '30'}>, <Axes: title={'center': '31'}>],\n",
       "       [<Axes: title={'center': '32'}>, <Axes: title={'center': '33'}>,\n",
       "        <Axes: title={'center': '34'}>, <Axes: title={'center': '35'}>,\n",
       "        <Axes: title={'center': '36'}>, <Axes: title={'center': '37'}>,\n",
       "        <Axes: title={'center': '38'}>, <Axes: title={'center': '39'}>],\n",
       "       [<Axes: title={'center': '40'}>, <Axes: title={'center': '41'}>,\n",
       "        <Axes: title={'center': '42'}>, <Axes: title={'center': '43'}>,\n",
       "        <Axes: title={'center': '44'}>, <Axes: title={'center': '45'}>,\n",
       "        <Axes: title={'center': '46'}>, <Axes: title={'center': '47'}>],\n",
       "       [<Axes: title={'center': '48'}>, <Axes: title={'center': '49'}>,\n",
       "        <Axes: title={'center': '50'}>, <Axes: title={'center': '51'}>,\n",
       "        <Axes: title={'center': '52'}>, <Axes: title={'center': '53'}>,\n",
       "        <Axes: title={'center': '54'}>, <Axes: title={'center': '55'}>],\n",
       "       [<Axes: title={'center': '56'}>, <Axes: title={'center': '57'}>,\n",
       "        <Axes: title={'center': '58'}>, <Axes: title={'center': '59'}>,\n",
       "        <Axes: title={'center': '60'}>, <Axes: title={'center': '61'}>,\n",
       "        <Axes: title={'center': '62'}>, <Axes: title={'center': '63'}>],\n",
       "       [<Axes: title={'center': '64'}>, <Axes: title={'center': '65'}>,\n",
       "        <Axes: title={'center': '66'}>, <Axes: title={'center': '67'}>,\n",
       "        <Axes: title={'center': '68'}>, <Axes: title={'center': '69'}>,\n",
       "        <Axes: title={'center': '70'}>, <Axes: title={'center': '71'}>]],\n",
       "      dtype=object)"
      ]
     },
     "execution_count": 9,
     "metadata": {},
     "output_type": "execute_result"
    },
    {
     "data": {
      "image/png": "[encoded data removed]",
      "text/plain": [
       "<Figure size 1500x2000 with 72 Axes>"
      ]
     },
     "metadata": {},
     "output_type": "display_data"
    }
   ],
   "source": [
    "# посмотрим распределение признаков:\n",
    "base.hist(figsize=(15,20), bins=20)"
   ]
  },
  {
   "cell_type": "code",
   "execution_count": 10,
   "id": "87d6cf77",
   "metadata": {},
   "outputs": [],
   "source": [
    "base_faiss = base.drop(['Id','6','21','25','33', '44','59','65','70'], axis=1)"
   ]
  },
  {
   "cell_type": "code",
   "execution_count": 11,
   "id": "6ed0df4e",
   "metadata": {},
   "outputs": [
    {
     "data": {
      "text/plain": [
       "(2918139, 64)"
      ]
     },
     "execution_count": 11,
     "metadata": {},
     "output_type": "execute_result"
    }
   ],
   "source": [
    "base_faiss.shape"
   ]
  },
  {
   "cell_type": "markdown",
   "id": "1e63455d",
   "metadata": {},
   "source": [
    "## Train"
   ]
  },
  {
   "cell_type": "code",
   "execution_count": 12,
   "id": "ec490115",
   "metadata": {},
   "outputs": [
    {
     "data": {
      "text/html": [
       "<div>\n",
       "<style scoped>\n",
       "    .dataframe tbody tr th:only-of-type {\n",
       "        vertical-align: middle;\n",
       "    }\n",
       "\n",
       "    .dataframe tbody tr th {\n",
       "        vertical-align: top;\n",
       "    }\n",
       "\n",
       "    .dataframe thead th {\n",
       "        text-align: right;\n",
       "    }\n",
       "</style>\n",
       "<table border=\"1\" class=\"dataframe\">\n",
       "  <thead>\n",
       "    <tr style=\"text-align: right;\">\n",
       "      <th></th>\n",
       "      <th>Id</th>\n",
       "      <th>0</th>\n",
       "      <th>1</th>\n",
       "      <th>2</th>\n",
       "      <th>3</th>\n",
       "      <th>4</th>\n",
       "      <th>5</th>\n",
       "      <th>6</th>\n",
       "      <th>7</th>\n",
       "      <th>8</th>\n",
       "      <th>...</th>\n",
       "      <th>63</th>\n",
       "      <th>64</th>\n",
       "      <th>65</th>\n",
       "      <th>66</th>\n",
       "      <th>67</th>\n",
       "      <th>68</th>\n",
       "      <th>69</th>\n",
       "      <th>70</th>\n",
       "      <th>71</th>\n",
       "      <th>Target</th>\n",
       "    </tr>\n",
       "  </thead>\n",
       "  <tbody>\n",
       "    <tr>\n",
       "      <th>0</th>\n",
       "      <td>0-query</td>\n",
       "      <td>-53.882748</td>\n",
       "      <td>17.971436</td>\n",
       "      <td>-42.117104</td>\n",
       "      <td>-183.93668</td>\n",
       "      <td>187.517490</td>\n",
       "      <td>-87.144930</td>\n",
       "      <td>-347.360606</td>\n",
       "      <td>38.307602</td>\n",
       "      <td>109.085560</td>\n",
       "      <td>...</td>\n",
       "      <td>70.107360</td>\n",
       "      <td>-155.80257</td>\n",
       "      <td>-101.965943</td>\n",
       "      <td>65.903790</td>\n",
       "      <td>34.457500</td>\n",
       "      <td>62.642094</td>\n",
       "      <td>134.763600</td>\n",
       "      <td>-415.750254</td>\n",
       "      <td>-25.958572</td>\n",
       "      <td>675816-base</td>\n",
       "    </tr>\n",
       "    <tr>\n",
       "      <th>1</th>\n",
       "      <td>1-query</td>\n",
       "      <td>-87.776370</td>\n",
       "      <td>6.806268</td>\n",
       "      <td>-32.054546</td>\n",
       "      <td>-177.26039</td>\n",
       "      <td>120.803330</td>\n",
       "      <td>-83.810590</td>\n",
       "      <td>-94.572749</td>\n",
       "      <td>-78.433090</td>\n",
       "      <td>124.915900</td>\n",
       "      <td>...</td>\n",
       "      <td>4.669178</td>\n",
       "      <td>-151.69771</td>\n",
       "      <td>-1.638704</td>\n",
       "      <td>68.170876</td>\n",
       "      <td>25.096191</td>\n",
       "      <td>89.974976</td>\n",
       "      <td>130.589630</td>\n",
       "      <td>-1035.092211</td>\n",
       "      <td>-51.276833</td>\n",
       "      <td>366656-base</td>\n",
       "    </tr>\n",
       "    <tr>\n",
       "      <th>2</th>\n",
       "      <td>2-query</td>\n",
       "      <td>-49.979565</td>\n",
       "      <td>3.841486</td>\n",
       "      <td>-116.118590</td>\n",
       "      <td>-180.40198</td>\n",
       "      <td>190.128430</td>\n",
       "      <td>-50.837620</td>\n",
       "      <td>26.943937</td>\n",
       "      <td>-30.447489</td>\n",
       "      <td>125.771164</td>\n",
       "      <td>...</td>\n",
       "      <td>78.039764</td>\n",
       "      <td>-169.14620</td>\n",
       "      <td>82.144186</td>\n",
       "      <td>66.008220</td>\n",
       "      <td>18.400496</td>\n",
       "      <td>212.409730</td>\n",
       "      <td>121.931470</td>\n",
       "      <td>-1074.464888</td>\n",
       "      <td>-22.547178</td>\n",
       "      <td>1447819-base</td>\n",
       "    </tr>\n",
       "    <tr>\n",
       "      <th>3</th>\n",
       "      <td>3-query</td>\n",
       "      <td>-47.810562</td>\n",
       "      <td>9.086598</td>\n",
       "      <td>-115.401695</td>\n",
       "      <td>-121.01136</td>\n",
       "      <td>94.652840</td>\n",
       "      <td>-109.255410</td>\n",
       "      <td>-775.150134</td>\n",
       "      <td>79.186520</td>\n",
       "      <td>124.003100</td>\n",
       "      <td>...</td>\n",
       "      <td>44.515266</td>\n",
       "      <td>-145.41675</td>\n",
       "      <td>93.990981</td>\n",
       "      <td>64.131350</td>\n",
       "      <td>106.061920</td>\n",
       "      <td>83.178760</td>\n",
       "      <td>118.277725</td>\n",
       "      <td>-1074.464888</td>\n",
       "      <td>-19.902788</td>\n",
       "      <td>1472602-base</td>\n",
       "    </tr>\n",
       "    <tr>\n",
       "      <th>4</th>\n",
       "      <td>4-query</td>\n",
       "      <td>-79.632126</td>\n",
       "      <td>14.442886</td>\n",
       "      <td>-58.903397</td>\n",
       "      <td>-147.05254</td>\n",
       "      <td>57.127068</td>\n",
       "      <td>-16.239529</td>\n",
       "      <td>-321.317964</td>\n",
       "      <td>45.984676</td>\n",
       "      <td>125.941284</td>\n",
       "      <td>...</td>\n",
       "      <td>45.028910</td>\n",
       "      <td>-196.09207</td>\n",
       "      <td>-117.626337</td>\n",
       "      <td>66.926220</td>\n",
       "      <td>42.456170</td>\n",
       "      <td>77.621765</td>\n",
       "      <td>92.479930</td>\n",
       "      <td>-1074.464888</td>\n",
       "      <td>-21.149351</td>\n",
       "      <td>717819-base</td>\n",
       "    </tr>\n",
       "  </tbody>\n",
       "</table>\n",
       "<p>5 rows × 74 columns</p>\n",
       "</div>"
      ],
      "text/plain": [
       "        Id          0          1           2          3           4  \\\n",
       "0  0-query -53.882748  17.971436  -42.117104 -183.93668  187.517490   \n",
       "1  1-query -87.776370   6.806268  -32.054546 -177.26039  120.803330   \n",
       "2  2-query -49.979565   3.841486 -116.118590 -180.40198  190.128430   \n",
       "3  3-query -47.810562   9.086598 -115.401695 -121.01136   94.652840   \n",
       "4  4-query -79.632126  14.442886  -58.903397 -147.05254   57.127068   \n",
       "\n",
       "            5           6          7           8  ...         63         64  \\\n",
       "0  -87.144930 -347.360606  38.307602  109.085560  ...  70.107360 -155.80257   \n",
       "1  -83.810590  -94.572749 -78.433090  124.915900  ...   4.669178 -151.69771   \n",
       "2  -50.837620   26.943937 -30.447489  125.771164  ...  78.039764 -169.14620   \n",
       "3 -109.255410 -775.150134  79.186520  124.003100  ...  44.515266 -145.41675   \n",
       "4  -16.239529 -321.317964  45.984676  125.941284  ...  45.028910 -196.09207   \n",
       "\n",
       "           65         66          67          68          69           70  \\\n",
       "0 -101.965943  65.903790   34.457500   62.642094  134.763600  -415.750254   \n",
       "1   -1.638704  68.170876   25.096191   89.974976  130.589630 -1035.092211   \n",
       "2   82.144186  66.008220   18.400496  212.409730  121.931470 -1074.464888   \n",
       "3   93.990981  64.131350  106.061920   83.178760  118.277725 -1074.464888   \n",
       "4 -117.626337  66.926220   42.456170   77.621765   92.479930 -1074.464888   \n",
       "\n",
       "          71        Target  \n",
       "0 -25.958572   675816-base  \n",
       "1 -51.276833   366656-base  \n",
       "2 -22.547178  1447819-base  \n",
       "3 -19.902788  1472602-base  \n",
       "4 -21.149351   717819-base  \n",
       "\n",
       "[5 rows x 74 columns]"
      ]
     },
     "execution_count": 12,
     "metadata": {},
     "output_type": "execute_result"
    }
   ],
   "source": [
    "train = pd.read_csv('train.csv')\n",
    "train.head()"
   ]
  },
  {
   "cell_type": "code",
   "execution_count": 13,
   "id": "1b9282a0",
   "metadata": {},
   "outputs": [],
   "source": [
    "targets = train['Target']"
   ]
  },
  {
   "cell_type": "code",
   "execution_count": 14,
   "id": "f0b1c189",
   "metadata": {},
   "outputs": [],
   "source": [
    "num = train.copy().select_dtypes(exclude='object')\n",
    "num = num.columns.to_list()"
   ]
  },
  {
   "cell_type": "code",
   "execution_count": 15,
   "id": "e2797724",
   "metadata": {},
   "outputs": [],
   "source": [
    "train[num] = scaler.transform(train[num])"
   ]
  },
  {
   "cell_type": "code",
   "execution_count": 16,
   "id": "1fef9b7d",
   "metadata": {},
   "outputs": [],
   "source": [
    "train_faiss = train.drop(['Id','Target','6','21','25','33', '44','59','65','70'], axis=1)"
   ]
  },
  {
   "cell_type": "markdown",
   "id": "0cb5b155",
   "metadata": {},
   "source": [
    "## Create Index"
   ]
  },
  {
   "cell_type": "code",
   "execution_count": 17,
   "id": "85a6c917",
   "metadata": {},
   "outputs": [],
   "source": [
    "dims = base_faiss.shape[1]\n",
    "n_cells = 100\n",
    "# how many cells\n",
    "quantizer = faiss.IndexFlatL2(dims)\n",
    "idx_l2 = faiss.IndexIVFFlat(quantizer, dims, n_cells)"
   ]
  },
  {
   "cell_type": "code",
   "execution_count": 18,
   "id": "2484ed76",
   "metadata": {},
   "outputs": [],
   "source": [
    "idx_l2.train(np.ascontiguousarray(base_faiss.values[:50000]).astype('float32'))\n",
    "\n",
    "idx_l2.add(np.ascontiguousarray(base_faiss.values).astype('float32'))"
   ]
  },
  {
   "cell_type": "code",
   "execution_count": 19,
   "id": "7af5c5a5",
   "metadata": {},
   "outputs": [],
   "source": [
    "base_index = {k: v for k, v in enumerate(base[\"Id\"].to_list())}"
   ]
  },
  {
   "cell_type": "markdown",
   "id": "1ef7ccad",
   "metadata": {},
   "source": [
    "## Поиск"
   ]
  },
  {
   "cell_type": "raw",
   "id": "26587674",
   "metadata": {},
   "source": [
    "k1 = 5\n",
    "r, idx = idx_l2.search(np.ascontiguousarray(train_faiss.values).astype('float32'), k1)"
   ]
  },
  {
   "cell_type": "raw",
   "id": "9ccac128",
   "metadata": {},
   "source": [
    "acc = 0\n",
    "for target, el in zip(targets.values.tolist(), idx.tolist()):\n",
    "    acc += int(target in [base_index[r] for r in el])\n",
    "\n",
    "print(f'accuracy@5: {100 * acc / len(idx)}')"
   ]
  },
  {
   "cell_type": "markdown",
   "id": "e1f29664",
   "metadata": {},
   "source": [
    "Найдем 30 ближайших соседей для обучения ML-модели"
   ]
  },
  {
   "cell_type": "code",
   "execution_count": 20,
   "id": "2f3de9b1",
   "metadata": {},
   "outputs": [],
   "source": [
    "k2 = 30\n",
    "r, idx = idx_l2.search(np.ascontiguousarray(train_faiss.values).astype('float32'), k2)"
   ]
  },
  {
   "cell_type": "code",
   "execution_count": 21,
   "id": "036f2da9",
   "metadata": {},
   "outputs": [
    {
     "name": "stdout",
     "output_type": "stream",
     "text": [
      "accuracy@30: 67.147\n"
     ]
    }
   ],
   "source": [
    "acc = 0\n",
    "for target, el in zip(targets.values.tolist(), idx.tolist()):\n",
    "    acc += int(target in [base_index[r] for r in el])\n",
    "\n",
    "print(f'accuracy@30: {100 * acc / len(idx)}')"
   ]
  },
  {
   "cell_type": "code",
   "execution_count": 22,
   "id": "43731ee6",
   "metadata": {},
   "outputs": [
    {
     "data": {
      "text/plain": [
       "100000"
      ]
     },
     "execution_count": 22,
     "metadata": {},
     "output_type": "execute_result"
    }
   ],
   "source": [
    "len(idx)"
   ]
  },
  {
   "cell_type": "code",
   "execution_count": 23,
   "id": "8cefbaee",
   "metadata": {},
   "outputs": [],
   "source": [
    "del train_faiss, base_faiss"
   ]
  },
  {
   "cell_type": "markdown",
   "id": "64750ca4",
   "metadata": {},
   "source": [
    "## new train "
   ]
  },
  {
   "cell_type": "markdown",
   "id": "162bfa24",
   "metadata": {},
   "source": [
    "Соберем новый датафрейм для обучения модели бинарной классификации. Основой станет датасет с запросами train, дополненный каждым индексом товара и признаками товара из 30 ближайших найденных соседей из выдачи faiss"
   ]
  },
  {
   "cell_type": "code",
   "execution_count": 24,
   "id": "d84fcca4",
   "metadata": {},
   "outputs": [
    {
     "data": {
      "text/plain": [
       "(3000000, 74)"
      ]
     },
     "execution_count": 24,
     "metadata": {},
     "output_type": "execute_result"
    }
   ],
   "source": [
    "# размножим датасет train в 30 раз:\n",
    "new_index = train.index.repeat(k2)\n",
    "train_repeated = train.loc[new_index].reset_index(drop=True)\n",
    "\n",
    "train_repeated.shape"
   ]
  },
  {
   "cell_type": "code",
   "execution_count": 25,
   "id": "b759157c",
   "metadata": {},
   "outputs": [
    {
     "data": {
      "text/html": [
       "<div>\n",
       "<style scoped>\n",
       "    .dataframe tbody tr th:only-of-type {\n",
       "        vertical-align: middle;\n",
       "    }\n",
       "\n",
       "    .dataframe tbody tr th {\n",
       "        vertical-align: top;\n",
       "    }\n",
       "\n",
       "    .dataframe thead th {\n",
       "        text-align: right;\n",
       "    }\n",
       "</style>\n",
       "<table border=\"1\" class=\"dataframe\">\n",
       "  <thead>\n",
       "    <tr style=\"text-align: right;\">\n",
       "      <th></th>\n",
       "      <th>Id</th>\n",
       "      <th>0</th>\n",
       "      <th>1</th>\n",
       "      <th>2</th>\n",
       "      <th>3</th>\n",
       "      <th>4</th>\n",
       "      <th>5</th>\n",
       "      <th>6</th>\n",
       "      <th>7</th>\n",
       "      <th>8</th>\n",
       "      <th>...</th>\n",
       "      <th>63</th>\n",
       "      <th>64</th>\n",
       "      <th>65</th>\n",
       "      <th>66</th>\n",
       "      <th>67</th>\n",
       "      <th>68</th>\n",
       "      <th>69</th>\n",
       "      <th>70</th>\n",
       "      <th>71</th>\n",
       "      <th>Target</th>\n",
       "    </tr>\n",
       "  </thead>\n",
       "  <tbody>\n",
       "    <tr>\n",
       "      <th>0</th>\n",
       "      <td>0-query</td>\n",
       "      <td>1.299519</td>\n",
       "      <td>1.996888</td>\n",
       "      <td>0.063774</td>\n",
       "      <td>-1.879671</td>\n",
       "      <td>1.644100</td>\n",
       "      <td>-0.537626</td>\n",
       "      <td>0.165148</td>\n",
       "      <td>0.279598</td>\n",
       "      <td>-2.296794</td>\n",
       "      <td>...</td>\n",
       "      <td>1.274319</td>\n",
       "      <td>-0.02441</td>\n",
       "      <td>-1.173481</td>\n",
       "      <td>-1.035388</td>\n",
       "      <td>0.197184</td>\n",
       "      <td>-0.200786</td>\n",
       "      <td>0.906575</td>\n",
       "      <td>0.995267</td>\n",
       "      <td>0.522963</td>\n",
       "      <td>675816-base</td>\n",
       "    </tr>\n",
       "    <tr>\n",
       "      <th>1</th>\n",
       "      <td>0-query</td>\n",
       "      <td>1.299519</td>\n",
       "      <td>1.996888</td>\n",
       "      <td>0.063774</td>\n",
       "      <td>-1.879671</td>\n",
       "      <td>1.644100</td>\n",
       "      <td>-0.537626</td>\n",
       "      <td>0.165148</td>\n",
       "      <td>0.279598</td>\n",
       "      <td>-2.296794</td>\n",
       "      <td>...</td>\n",
       "      <td>1.274319</td>\n",
       "      <td>-0.02441</td>\n",
       "      <td>-1.173481</td>\n",
       "      <td>-1.035388</td>\n",
       "      <td>0.197184</td>\n",
       "      <td>-0.200786</td>\n",
       "      <td>0.906575</td>\n",
       "      <td>0.995267</td>\n",
       "      <td>0.522963</td>\n",
       "      <td>675816-base</td>\n",
       "    </tr>\n",
       "    <tr>\n",
       "      <th>2</th>\n",
       "      <td>0-query</td>\n",
       "      <td>1.299519</td>\n",
       "      <td>1.996888</td>\n",
       "      <td>0.063774</td>\n",
       "      <td>-1.879671</td>\n",
       "      <td>1.644100</td>\n",
       "      <td>-0.537626</td>\n",
       "      <td>0.165148</td>\n",
       "      <td>0.279598</td>\n",
       "      <td>-2.296794</td>\n",
       "      <td>...</td>\n",
       "      <td>1.274319</td>\n",
       "      <td>-0.02441</td>\n",
       "      <td>-1.173481</td>\n",
       "      <td>-1.035388</td>\n",
       "      <td>0.197184</td>\n",
       "      <td>-0.200786</td>\n",
       "      <td>0.906575</td>\n",
       "      <td>0.995267</td>\n",
       "      <td>0.522963</td>\n",
       "      <td>675816-base</td>\n",
       "    </tr>\n",
       "    <tr>\n",
       "      <th>3</th>\n",
       "      <td>0-query</td>\n",
       "      <td>1.299519</td>\n",
       "      <td>1.996888</td>\n",
       "      <td>0.063774</td>\n",
       "      <td>-1.879671</td>\n",
       "      <td>1.644100</td>\n",
       "      <td>-0.537626</td>\n",
       "      <td>0.165148</td>\n",
       "      <td>0.279598</td>\n",
       "      <td>-2.296794</td>\n",
       "      <td>...</td>\n",
       "      <td>1.274319</td>\n",
       "      <td>-0.02441</td>\n",
       "      <td>-1.173481</td>\n",
       "      <td>-1.035388</td>\n",
       "      <td>0.197184</td>\n",
       "      <td>-0.200786</td>\n",
       "      <td>0.906575</td>\n",
       "      <td>0.995267</td>\n",
       "      <td>0.522963</td>\n",
       "      <td>675816-base</td>\n",
       "    </tr>\n",
       "    <tr>\n",
       "      <th>4</th>\n",
       "      <td>0-query</td>\n",
       "      <td>1.299519</td>\n",
       "      <td>1.996888</td>\n",
       "      <td>0.063774</td>\n",
       "      <td>-1.879671</td>\n",
       "      <td>1.644100</td>\n",
       "      <td>-0.537626</td>\n",
       "      <td>0.165148</td>\n",
       "      <td>0.279598</td>\n",
       "      <td>-2.296794</td>\n",
       "      <td>...</td>\n",
       "      <td>1.274319</td>\n",
       "      <td>-0.02441</td>\n",
       "      <td>-1.173481</td>\n",
       "      <td>-1.035388</td>\n",
       "      <td>0.197184</td>\n",
       "      <td>-0.200786</td>\n",
       "      <td>0.906575</td>\n",
       "      <td>0.995267</td>\n",
       "      <td>0.522963</td>\n",
       "      <td>675816-base</td>\n",
       "    </tr>\n",
       "    <tr>\n",
       "      <th>...</th>\n",
       "      <td>...</td>\n",
       "      <td>...</td>\n",
       "      <td>...</td>\n",
       "      <td>...</td>\n",
       "      <td>...</td>\n",
       "      <td>...</td>\n",
       "      <td>...</td>\n",
       "      <td>...</td>\n",
       "      <td>...</td>\n",
       "      <td>...</td>\n",
       "      <td>...</td>\n",
       "      <td>...</td>\n",
       "      <td>...</td>\n",
       "      <td>...</td>\n",
       "      <td>...</td>\n",
       "      <td>...</td>\n",
       "      <td>...</td>\n",
       "      <td>...</td>\n",
       "      <td>...</td>\n",
       "      <td>...</td>\n",
       "      <td>...</td>\n",
       "    </tr>\n",
       "    <tr>\n",
       "      <th>2999995</th>\n",
       "      <td>99999-query</td>\n",
       "      <td>-0.113252</td>\n",
       "      <td>0.577083</td>\n",
       "      <td>-0.223273</td>\n",
       "      <td>0.123277</td>\n",
       "      <td>0.693205</td>\n",
       "      <td>-0.521279</td>\n",
       "      <td>1.149390</td>\n",
       "      <td>0.885642</td>\n",
       "      <td>-0.902251</td>\n",
       "      <td>...</td>\n",
       "      <td>-0.973232</td>\n",
       "      <td>0.48528</td>\n",
       "      <td>-0.940010</td>\n",
       "      <td>-0.497456</td>\n",
       "      <td>0.398868</td>\n",
       "      <td>0.897089</td>\n",
       "      <td>-0.704127</td>\n",
       "      <td>1.960963</td>\n",
       "      <td>-0.775166</td>\n",
       "      <td>2769109-base</td>\n",
       "    </tr>\n",
       "    <tr>\n",
       "      <th>2999996</th>\n",
       "      <td>99999-query</td>\n",
       "      <td>-0.113252</td>\n",
       "      <td>0.577083</td>\n",
       "      <td>-0.223273</td>\n",
       "      <td>0.123277</td>\n",
       "      <td>0.693205</td>\n",
       "      <td>-0.521279</td>\n",
       "      <td>1.149390</td>\n",
       "      <td>0.885642</td>\n",
       "      <td>-0.902251</td>\n",
       "      <td>...</td>\n",
       "      <td>-0.973232</td>\n",
       "      <td>0.48528</td>\n",
       "      <td>-0.940010</td>\n",
       "      <td>-0.497456</td>\n",
       "      <td>0.398868</td>\n",
       "      <td>0.897089</td>\n",
       "      <td>-0.704127</td>\n",
       "      <td>1.960963</td>\n",
       "      <td>-0.775166</td>\n",
       "      <td>2769109-base</td>\n",
       "    </tr>\n",
       "    <tr>\n",
       "      <th>2999997</th>\n",
       "      <td>99999-query</td>\n",
       "      <td>-0.113252</td>\n",
       "      <td>0.577083</td>\n",
       "      <td>-0.223273</td>\n",
       "      <td>0.123277</td>\n",
       "      <td>0.693205</td>\n",
       "      <td>-0.521279</td>\n",
       "      <td>1.149390</td>\n",
       "      <td>0.885642</td>\n",
       "      <td>-0.902251</td>\n",
       "      <td>...</td>\n",
       "      <td>-0.973232</td>\n",
       "      <td>0.48528</td>\n",
       "      <td>-0.940010</td>\n",
       "      <td>-0.497456</td>\n",
       "      <td>0.398868</td>\n",
       "      <td>0.897089</td>\n",
       "      <td>-0.704127</td>\n",
       "      <td>1.960963</td>\n",
       "      <td>-0.775166</td>\n",
       "      <td>2769109-base</td>\n",
       "    </tr>\n",
       "    <tr>\n",
       "      <th>2999998</th>\n",
       "      <td>99999-query</td>\n",
       "      <td>-0.113252</td>\n",
       "      <td>0.577083</td>\n",
       "      <td>-0.223273</td>\n",
       "      <td>0.123277</td>\n",
       "      <td>0.693205</td>\n",
       "      <td>-0.521279</td>\n",
       "      <td>1.149390</td>\n",
       "      <td>0.885642</td>\n",
       "      <td>-0.902251</td>\n",
       "      <td>...</td>\n",
       "      <td>-0.973232</td>\n",
       "      <td>0.48528</td>\n",
       "      <td>-0.940010</td>\n",
       "      <td>-0.497456</td>\n",
       "      <td>0.398868</td>\n",
       "      <td>0.897089</td>\n",
       "      <td>-0.704127</td>\n",
       "      <td>1.960963</td>\n",
       "      <td>-0.775166</td>\n",
       "      <td>2769109-base</td>\n",
       "    </tr>\n",
       "    <tr>\n",
       "      <th>2999999</th>\n",
       "      <td>99999-query</td>\n",
       "      <td>-0.113252</td>\n",
       "      <td>0.577083</td>\n",
       "      <td>-0.223273</td>\n",
       "      <td>0.123277</td>\n",
       "      <td>0.693205</td>\n",
       "      <td>-0.521279</td>\n",
       "      <td>1.149390</td>\n",
       "      <td>0.885642</td>\n",
       "      <td>-0.902251</td>\n",
       "      <td>...</td>\n",
       "      <td>-0.973232</td>\n",
       "      <td>0.48528</td>\n",
       "      <td>-0.940010</td>\n",
       "      <td>-0.497456</td>\n",
       "      <td>0.398868</td>\n",
       "      <td>0.897089</td>\n",
       "      <td>-0.704127</td>\n",
       "      <td>1.960963</td>\n",
       "      <td>-0.775166</td>\n",
       "      <td>2769109-base</td>\n",
       "    </tr>\n",
       "  </tbody>\n",
       "</table>\n",
       "<p>3000000 rows × 74 columns</p>\n",
       "</div>"
      ],
      "text/plain": [
       "                  Id         0         1         2         3         4  \\\n",
       "0            0-query  1.299519  1.996888  0.063774 -1.879671  1.644100   \n",
       "1            0-query  1.299519  1.996888  0.063774 -1.879671  1.644100   \n",
       "2            0-query  1.299519  1.996888  0.063774 -1.879671  1.644100   \n",
       "3            0-query  1.299519  1.996888  0.063774 -1.879671  1.644100   \n",
       "4            0-query  1.299519  1.996888  0.063774 -1.879671  1.644100   \n",
       "...              ...       ...       ...       ...       ...       ...   \n",
       "2999995  99999-query -0.113252  0.577083 -0.223273  0.123277  0.693205   \n",
       "2999996  99999-query -0.113252  0.577083 -0.223273  0.123277  0.693205   \n",
       "2999997  99999-query -0.113252  0.577083 -0.223273  0.123277  0.693205   \n",
       "2999998  99999-query -0.113252  0.577083 -0.223273  0.123277  0.693205   \n",
       "2999999  99999-query -0.113252  0.577083 -0.223273  0.123277  0.693205   \n",
       "\n",
       "                5         6         7         8  ...        63       64  \\\n",
       "0       -0.537626  0.165148  0.279598 -2.296794  ...  1.274319 -0.02441   \n",
       "1       -0.537626  0.165148  0.279598 -2.296794  ...  1.274319 -0.02441   \n",
       "2       -0.537626  0.165148  0.279598 -2.296794  ...  1.274319 -0.02441   \n",
       "3       -0.537626  0.165148  0.279598 -2.296794  ...  1.274319 -0.02441   \n",
       "4       -0.537626  0.165148  0.279598 -2.296794  ...  1.274319 -0.02441   \n",
       "...           ...       ...       ...       ...  ...       ...      ...   \n",
       "2999995 -0.521279  1.149390  0.885642 -0.902251  ... -0.973232  0.48528   \n",
       "2999996 -0.521279  1.149390  0.885642 -0.902251  ... -0.973232  0.48528   \n",
       "2999997 -0.521279  1.149390  0.885642 -0.902251  ... -0.973232  0.48528   \n",
       "2999998 -0.521279  1.149390  0.885642 -0.902251  ... -0.973232  0.48528   \n",
       "2999999 -0.521279  1.149390  0.885642 -0.902251  ... -0.973232  0.48528   \n",
       "\n",
       "               65        66        67        68        69        70        71  \\\n",
       "0       -1.173481 -1.035388  0.197184 -0.200786  0.906575  0.995267  0.522963   \n",
       "1       -1.173481 -1.035388  0.197184 -0.200786  0.906575  0.995267  0.522963   \n",
       "2       -1.173481 -1.035388  0.197184 -0.200786  0.906575  0.995267  0.522963   \n",
       "3       -1.173481 -1.035388  0.197184 -0.200786  0.906575  0.995267  0.522963   \n",
       "4       -1.173481 -1.035388  0.197184 -0.200786  0.906575  0.995267  0.522963   \n",
       "...           ...       ...       ...       ...       ...       ...       ...   \n",
       "2999995 -0.940010 -0.497456  0.398868  0.897089 -0.704127  1.960963 -0.775166   \n",
       "2999996 -0.940010 -0.497456  0.398868  0.897089 -0.704127  1.960963 -0.775166   \n",
       "2999997 -0.940010 -0.497456  0.398868  0.897089 -0.704127  1.960963 -0.775166   \n",
       "2999998 -0.940010 -0.497456  0.398868  0.897089 -0.704127  1.960963 -0.775166   \n",
       "2999999 -0.940010 -0.497456  0.398868  0.897089 -0.704127  1.960963 -0.775166   \n",
       "\n",
       "               Target  \n",
       "0         675816-base  \n",
       "1         675816-base  \n",
       "2         675816-base  \n",
       "3         675816-base  \n",
       "4         675816-base  \n",
       "...               ...  \n",
       "2999995  2769109-base  \n",
       "2999996  2769109-base  \n",
       "2999997  2769109-base  \n",
       "2999998  2769109-base  \n",
       "2999999  2769109-base  \n",
       "\n",
       "[3000000 rows x 74 columns]"
      ]
     },
     "execution_count": 25,
     "metadata": {},
     "output_type": "execute_result"
    }
   ],
   "source": [
    "train_repeated"
   ]
  },
  {
   "cell_type": "code",
   "execution_count": 26,
   "id": "fa9f1891",
   "metadata": {},
   "outputs": [],
   "source": [
    "# переименуем признаки запроса:\n",
    "for column in train_repeated.columns:\n",
    "    train_repeated.rename(columns = {column : f'train_{column}'}, inplace = True )"
   ]
  },
  {
   "cell_type": "code",
   "execution_count": 27,
   "id": "ae9c7930",
   "metadata": {},
   "outputs": [],
   "source": [
    "all_indices = [idx for sublist in idx for idx in sublist] # список индексов faiss\n",
    "all_distances = [dist for sublist in r for dist in sublist] # список расстояний faiss\n",
    "\n",
    "# добавим индексы товара и дистанцию из выдачи faiss в размноженный датасет:\n",
    "train_repeated['base_index'] = all_indices\n",
    "train_repeated['distance'] = all_distances"
   ]
  },
  {
   "cell_type": "code",
   "execution_count": 28,
   "id": "6bd55e1b",
   "metadata": {},
   "outputs": [],
   "source": [
    "# добавим индексы товара из словаря:\n",
    "train_repeated['Id'] = train_repeated['base_index'].map(base_index)"
   ]
  },
  {
   "cell_type": "code",
   "execution_count": 29,
   "id": "17342cab",
   "metadata": {},
   "outputs": [],
   "source": [
    "train_ml = train_repeated.merge(base, on='Id')"
   ]
  },
  {
   "cell_type": "code",
   "execution_count": 30,
   "id": "a28f5716",
   "metadata": {},
   "outputs": [],
   "source": [
    "# создадим бинарный признак если индекс выбранного товара совпал с целью:\n",
    "train_ml['binar_target'] = (train_ml['train_Target'] == train_ml['Id']).astype(int)"
   ]
  },
  {
   "cell_type": "code",
   "execution_count": 31,
   "id": "08029c80",
   "metadata": {},
   "outputs": [
    {
     "data": {
      "text/html": [
       "<div>\n",
       "<style scoped>\n",
       "    .dataframe tbody tr th:only-of-type {\n",
       "        vertical-align: middle;\n",
       "    }\n",
       "\n",
       "    .dataframe tbody tr th {\n",
       "        vertical-align: top;\n",
       "    }\n",
       "\n",
       "    .dataframe thead th {\n",
       "        text-align: right;\n",
       "    }\n",
       "</style>\n",
       "<table border=\"1\" class=\"dataframe\">\n",
       "  <thead>\n",
       "    <tr style=\"text-align: right;\">\n",
       "      <th></th>\n",
       "      <th>train_Id</th>\n",
       "      <th>train_0</th>\n",
       "      <th>train_1</th>\n",
       "      <th>train_2</th>\n",
       "      <th>train_3</th>\n",
       "      <th>train_4</th>\n",
       "      <th>train_5</th>\n",
       "      <th>train_6</th>\n",
       "      <th>train_7</th>\n",
       "      <th>train_8</th>\n",
       "      <th>...</th>\n",
       "      <th>63</th>\n",
       "      <th>64</th>\n",
       "      <th>65</th>\n",
       "      <th>66</th>\n",
       "      <th>67</th>\n",
       "      <th>68</th>\n",
       "      <th>69</th>\n",
       "      <th>70</th>\n",
       "      <th>71</th>\n",
       "      <th>binar_target</th>\n",
       "    </tr>\n",
       "  </thead>\n",
       "  <tbody>\n",
       "    <tr>\n",
       "      <th>0</th>\n",
       "      <td>0-query</td>\n",
       "      <td>1.299519</td>\n",
       "      <td>1.996888</td>\n",
       "      <td>0.063774</td>\n",
       "      <td>-1.879671</td>\n",
       "      <td>1.644100</td>\n",
       "      <td>-0.537626</td>\n",
       "      <td>0.165148</td>\n",
       "      <td>0.279598</td>\n",
       "      <td>-2.296794</td>\n",
       "      <td>...</td>\n",
       "      <td>1.723392</td>\n",
       "      <td>-0.369458</td>\n",
       "      <td>0.988497</td>\n",
       "      <td>-1.100241</td>\n",
       "      <td>0.280916</td>\n",
       "      <td>-0.492041</td>\n",
       "      <td>0.532096</td>\n",
       "      <td>0.543575</td>\n",
       "      <td>0.090279</td>\n",
       "      <td>0</td>\n",
       "    </tr>\n",
       "    <tr>\n",
       "      <th>1</th>\n",
       "      <td>901-query</td>\n",
       "      <td>1.916994</td>\n",
       "      <td>1.153344</td>\n",
       "      <td>-0.199909</td>\n",
       "      <td>-1.319427</td>\n",
       "      <td>-0.193553</td>\n",
       "      <td>-0.269549</td>\n",
       "      <td>-1.287975</td>\n",
       "      <td>0.345101</td>\n",
       "      <td>-0.892164</td>\n",
       "      <td>...</td>\n",
       "      <td>1.723392</td>\n",
       "      <td>-0.369458</td>\n",
       "      <td>0.988497</td>\n",
       "      <td>-1.100241</td>\n",
       "      <td>0.280916</td>\n",
       "      <td>-0.492041</td>\n",
       "      <td>0.532096</td>\n",
       "      <td>0.543575</td>\n",
       "      <td>0.090279</td>\n",
       "      <td>0</td>\n",
       "    </tr>\n",
       "    <tr>\n",
       "      <th>2</th>\n",
       "      <td>16747-query</td>\n",
       "      <td>0.429194</td>\n",
       "      <td>1.314741</td>\n",
       "      <td>-0.513722</td>\n",
       "      <td>-1.220226</td>\n",
       "      <td>1.779113</td>\n",
       "      <td>0.047929</td>\n",
       "      <td>1.152288</td>\n",
       "      <td>0.592973</td>\n",
       "      <td>-2.010040</td>\n",
       "      <td>...</td>\n",
       "      <td>1.723392</td>\n",
       "      <td>-0.369458</td>\n",
       "      <td>0.988497</td>\n",
       "      <td>-1.100241</td>\n",
       "      <td>0.280916</td>\n",
       "      <td>-0.492041</td>\n",
       "      <td>0.532096</td>\n",
       "      <td>0.543575</td>\n",
       "      <td>0.090279</td>\n",
       "      <td>0</td>\n",
       "    </tr>\n",
       "    <tr>\n",
       "      <th>3</th>\n",
       "      <td>17014-query</td>\n",
       "      <td>0.310627</td>\n",
       "      <td>1.782069</td>\n",
       "      <td>1.165392</td>\n",
       "      <td>-1.973650</td>\n",
       "      <td>0.477932</td>\n",
       "      <td>-0.405355</td>\n",
       "      <td>0.250346</td>\n",
       "      <td>-0.103791</td>\n",
       "      <td>-1.668594</td>\n",
       "      <td>...</td>\n",
       "      <td>1.723392</td>\n",
       "      <td>-0.369458</td>\n",
       "      <td>0.988497</td>\n",
       "      <td>-1.100241</td>\n",
       "      <td>0.280916</td>\n",
       "      <td>-0.492041</td>\n",
       "      <td>0.532096</td>\n",
       "      <td>0.543575</td>\n",
       "      <td>0.090279</td>\n",
       "      <td>0</td>\n",
       "    </tr>\n",
       "    <tr>\n",
       "      <th>4</th>\n",
       "      <td>21887-query</td>\n",
       "      <td>-0.265206</td>\n",
       "      <td>2.188731</td>\n",
       "      <td>0.442868</td>\n",
       "      <td>-1.624284</td>\n",
       "      <td>1.152030</td>\n",
       "      <td>-0.141081</td>\n",
       "      <td>0.882876</td>\n",
       "      <td>1.339122</td>\n",
       "      <td>-0.821816</td>\n",
       "      <td>...</td>\n",
       "      <td>1.723392</td>\n",
       "      <td>-0.369458</td>\n",
       "      <td>0.988497</td>\n",
       "      <td>-1.100241</td>\n",
       "      <td>0.280916</td>\n",
       "      <td>-0.492041</td>\n",
       "      <td>0.532096</td>\n",
       "      <td>0.543575</td>\n",
       "      <td>0.090279</td>\n",
       "      <td>0</td>\n",
       "    </tr>\n",
       "  </tbody>\n",
       "</table>\n",
       "<p>5 rows × 150 columns</p>\n",
       "</div>"
      ],
      "text/plain": [
       "      train_Id   train_0   train_1   train_2   train_3   train_4   train_5  \\\n",
       "0      0-query  1.299519  1.996888  0.063774 -1.879671  1.644100 -0.537626   \n",
       "1    901-query  1.916994  1.153344 -0.199909 -1.319427 -0.193553 -0.269549   \n",
       "2  16747-query  0.429194  1.314741 -0.513722 -1.220226  1.779113  0.047929   \n",
       "3  17014-query  0.310627  1.782069  1.165392 -1.973650  0.477932 -0.405355   \n",
       "4  21887-query -0.265206  2.188731  0.442868 -1.624284  1.152030 -0.141081   \n",
       "\n",
       "    train_6   train_7   train_8  ...        63        64        65        66  \\\n",
       "0  0.165148  0.279598 -2.296794  ...  1.723392 -0.369458  0.988497 -1.100241   \n",
       "1 -1.287975  0.345101 -0.892164  ...  1.723392 -0.369458  0.988497 -1.100241   \n",
       "2  1.152288  0.592973 -2.010040  ...  1.723392 -0.369458  0.988497 -1.100241   \n",
       "3  0.250346 -0.103791 -1.668594  ...  1.723392 -0.369458  0.988497 -1.100241   \n",
       "4  0.882876  1.339122 -0.821816  ...  1.723392 -0.369458  0.988497 -1.100241   \n",
       "\n",
       "         67        68        69        70        71  binar_target  \n",
       "0  0.280916 -0.492041  0.532096  0.543575  0.090279             0  \n",
       "1  0.280916 -0.492041  0.532096  0.543575  0.090279             0  \n",
       "2  0.280916 -0.492041  0.532096  0.543575  0.090279             0  \n",
       "3  0.280916 -0.492041  0.532096  0.543575  0.090279             0  \n",
       "4  0.280916 -0.492041  0.532096  0.543575  0.090279             0  \n",
       "\n",
       "[5 rows x 150 columns]"
      ]
     },
     "execution_count": 31,
     "metadata": {},
     "output_type": "execute_result"
    }
   ],
   "source": [
    "train_ml.head()"
   ]
  },
  {
   "cell_type": "code",
   "execution_count": 32,
   "id": "4907a4bd",
   "metadata": {},
   "outputs": [
    {
     "data": {
      "text/plain": [
       "67147"
      ]
     },
     "execution_count": 32,
     "metadata": {},
     "output_type": "execute_result"
    }
   ],
   "source": [
    "# проверка:\n",
    "sum(train_ml['binar_target'])"
   ]
  },
  {
   "cell_type": "markdown",
   "id": "8b8e31ac",
   "metadata": {},
   "source": [
    "## Desicion Tree"
   ]
  },
  {
   "cell_type": "raw",
   "id": "34afd7c4",
   "metadata": {
    "scrolled": true
   },
   "source": [
    "# подготовим датасет для модели:\n",
    "X = train_ml.drop(['train_Id','train_Target','Id', 'binar_target', 'base_index'], axis=1).astype('float32')\n",
    "y = train_ml['binar_target']"
   ]
  },
  {
   "cell_type": "raw",
   "id": "9387ffc3",
   "metadata": {},
   "source": [
    "X_train, X_val, y_train, y_val = train_test_split(X, y, test_size=0.2, random_state=42)"
   ]
  },
  {
   "cell_type": "raw",
   "id": "2799a844",
   "metadata": {},
   "source": [
    "X_train.shape, X_val.shape"
   ]
  },
  {
   "cell_type": "raw",
   "id": "c4f3e65e",
   "metadata": {},
   "source": [
    "# обучим Дерево решений:\n",
    "model = DecisionTreeClassifier(max_depth=10)"
   ]
  },
  {
   "cell_type": "raw",
   "id": "e3fb2673",
   "metadata": {},
   "source": [
    "model.fit(X_train, y_train)"
   ]
  },
  {
   "cell_type": "raw",
   "id": "3c1db5ac",
   "metadata": {
    "scrolled": true
   },
   "source": [
    "# и посмотрим наиболее влияющие признаки:\n",
    "for name, score in zip(X.columns, model.feature_importances_):\n",
    "    if score * 100 > 0.2:\n",
    "        print(name, score*100)"
   ]
  },
  {
   "cell_type": "markdown",
   "id": "b67ffabd",
   "metadata": {},
   "source": [
    "## New Features"
   ]
  },
  {
   "cell_type": "markdown",
   "id": "24018df1",
   "metadata": {},
   "source": [
    "Посмотрим как взаимодействуют наиболее важные признаки"
   ]
  },
  {
   "cell_type": "code",
   "execution_count": 33,
   "id": "6098ad02",
   "metadata": {},
   "outputs": [],
   "source": [
    "X_reg  = train_ml[['train_6', 'train_25', 'train_33', 'train_44', 'train_45', 'train_70', 'distance', '6','25','33', '44', '45','70']]"
   ]
  },
  {
   "cell_type": "code",
   "execution_count": 34,
   "id": "f79bf1a2",
   "metadata": {},
   "outputs": [
    {
     "data": {
      "text/plain": [
       "array([[<Axes: title={'center': 'train_6'}>,\n",
       "        <Axes: title={'center': 'train_25'}>,\n",
       "        <Axes: title={'center': 'train_33'}>,\n",
       "        <Axes: title={'center': 'train_44'}>],\n",
       "       [<Axes: title={'center': 'train_45'}>,\n",
       "        <Axes: title={'center': 'train_70'}>,\n",
       "        <Axes: title={'center': 'distance'}>,\n",
       "        <Axes: title={'center': '6'}>],\n",
       "       [<Axes: title={'center': '25'}>, <Axes: title={'center': '33'}>,\n",
       "        <Axes: title={'center': '44'}>, <Axes: title={'center': '45'}>],\n",
       "       [<Axes: title={'center': '70'}>, <Axes: >, <Axes: >, <Axes: >]],\n",
       "      dtype=object)"
      ]
     },
     "execution_count": 34,
     "metadata": {},
     "output_type": "execute_result"
    },
    {
     "data": {
      "image/png": "[encoded data removed]",
      "text/plain": [
       "<Figure size 1500x1800 with 16 Axes>"
      ]
     },
     "metadata": {},
     "output_type": "display_data"
    }
   ],
   "source": [
    "X_reg.hist(figsize=(15, 18), bins=30)"
   ]
  },
  {
   "cell_type": "markdown",
   "id": "ff2a24b2",
   "metadata": {},
   "source": [
    "В перечень самых важных признаков попали признаки с распеределением, далеким от нормального. Они были ислючены из обучения индекса фаисса.\n",
    "\n",
    "Распределение парных признаков соответствующих запроса и товара очень похожи друг на друга, посмотрим в какой части они полностью совпадают. Распределение значений признака 'distance' далеко от нормального."
   ]
  },
  {
   "cell_type": "code",
   "execution_count": 35,
   "id": "a6d96edf",
   "metadata": {},
   "outputs": [
    {
     "data": {
      "text/plain": [
       "<Axes: >"
      ]
     },
     "execution_count": 35,
     "metadata": {},
     "output_type": "execute_result"
    },
    {
     "data": {
      "image/png": "[encoded data removed]",
      "text/plain": [
       "<Figure size 640x480 with 1 Axes>"
      ]
     },
     "metadata": {},
     "output_type": "display_data"
    }
   ],
   "source": [
    "train_ml['sin_6'] = train_ml['train_6'] - train_ml['6']\n",
    "train_ml['sin_6'].hist(bins=30)"
   ]
  },
  {
   "cell_type": "code",
   "execution_count": 36,
   "id": "1728d1fb",
   "metadata": {},
   "outputs": [
    {
     "data": {
      "text/plain": [
       "sin_6\n",
       " 0.000000    263670\n",
       "-0.844827     60976\n",
       " 0.844827     24587\n",
       "-1.040497       890\n",
       "-1.004402       784\n",
       "              ...  \n",
       "-1.904694         1\n",
       "-0.163213         1\n",
       "-0.521843         1\n",
       "-1.640476         1\n",
       " 1.632885         1\n",
       "Name: count, Length: 2122976, dtype: int64"
      ]
     },
     "execution_count": 36,
     "metadata": {},
     "output_type": "execute_result"
    }
   ],
   "source": [
    "train_ml['sin_6'].value_counts()"
   ]
  },
  {
   "cell_type": "code",
   "execution_count": 37,
   "id": "b0058218",
   "metadata": {},
   "outputs": [],
   "source": [
    "train_ml['sin_6'] = [1 if x == 0 else 0 for x in train_ml['sin_6']]"
   ]
  },
  {
   "cell_type": "code",
   "execution_count": 38,
   "id": "1b1b3c8b",
   "metadata": {},
   "outputs": [],
   "source": [
    "train_ml['sin_25'] = train_ml['train_25'] - train_ml['25']"
   ]
  },
  {
   "cell_type": "code",
   "execution_count": 39,
   "id": "d5a4e7b8",
   "metadata": {},
   "outputs": [
    {
     "data": {
      "text/plain": [
       "sin_25\n",
       " 0.000000    7.361033e-01\n",
       "-3.104378    5.177000e-03\n",
       " 3.104378    2.054333e-03\n",
       " 2.174370    1.521333e-03\n",
       "-0.547466    8.910000e-04\n",
       "                 ...     \n",
       " 0.421030    3.333333e-07\n",
       "-0.043424    3.333333e-07\n",
       "-0.208097    3.333333e-07\n",
       " 2.652774    3.333333e-07\n",
       " 3.746982    3.333333e-07\n",
       "Name: proportion, Length: 248975, dtype: float64"
      ]
     },
     "execution_count": 39,
     "metadata": {},
     "output_type": "execute_result"
    }
   ],
   "source": [
    "train_ml['sin_25'].value_counts(normalize=True)"
   ]
  },
  {
   "cell_type": "code",
   "execution_count": 40,
   "id": "aa8b6f10",
   "metadata": {},
   "outputs": [],
   "source": [
    "train_ml['sin_25'] = [1 if x == 0 else 0 for x in train_ml['sin_25']]"
   ]
  },
  {
   "cell_type": "code",
   "execution_count": 41,
   "id": "8c28ad30",
   "metadata": {},
   "outputs": [
    {
     "data": {
      "text/plain": [
       "<Axes: >"
      ]
     },
     "execution_count": 41,
     "metadata": {},
     "output_type": "execute_result"
    },
    {
     "data": {
      "image/png": "[encoded data removed]",
      "text/plain": [
       "<Figure size 640x480 with 1 Axes>"
      ]
     },
     "metadata": {},
     "output_type": "display_data"
    }
   ],
   "source": [
    "train_ml['sin_33'] = abs(train_ml['train_33'] - train_ml['33'])\n",
    "train_ml['sin_33'].hist(bins=30)"
   ]
  },
  {
   "cell_type": "code",
   "execution_count": 42,
   "id": "d6d134ec",
   "metadata": {},
   "outputs": [
    {
     "data": {
      "text/plain": [
       "sin_33\n",
       "0.000000    390191\n",
       "1.876759     75482\n",
       "2.059795     37225\n",
       "0.183036     36300\n",
       "1.431219     34435\n",
       "             ...  \n",
       "1.779675         1\n",
       "0.655952         1\n",
       "0.465028         1\n",
       "0.555338         1\n",
       "2.596202         1\n",
       "Name: count, Length: 163614, dtype: int64"
      ]
     },
     "execution_count": 42,
     "metadata": {},
     "output_type": "execute_result"
    }
   ],
   "source": [
    "train_ml['sin_33'].value_counts()"
   ]
  },
  {
   "cell_type": "code",
   "execution_count": 43,
   "id": "42ae28fd",
   "metadata": {},
   "outputs": [
    {
     "data": {
      "text/plain": [
       "sin_44\n",
       " 0.000000e+00    777029\n",
       " 1.986124e+00      8535\n",
       "-5.224869e-01      6550\n",
       " 5.224869e-01      6037\n",
       "-1.824807e+00      5800\n",
       "-1.986124e+00      5628\n",
       "-2.220446e-16      4503\n",
       " 1.824807e+00      4331\n",
       "-2.457942e+00      4253\n",
       " 2.027670e+00      3962\n",
       "Name: count, dtype: int64"
      ]
     },
     "execution_count": 43,
     "metadata": {},
     "output_type": "execute_result"
    }
   ],
   "source": [
    "train_ml['sin_44'] = train_ml['train_44'] - train_ml['44']\n",
    "train_ml['sin_44'] .value_counts().head(10)"
   ]
  },
  {
   "cell_type": "code",
   "execution_count": 44,
   "id": "d5d2bc67",
   "metadata": {},
   "outputs": [
    {
     "data": {
      "text/plain": [
       "<Axes: >"
      ]
     },
     "execution_count": 44,
     "metadata": {},
     "output_type": "execute_result"
    },
    {
     "data": {
      "image/png": "[encoded data removed]",
      "text/plain": [
       "<Figure size 640x480 with 1 Axes>"
      ]
     },
     "metadata": {},
     "output_type": "display_data"
    }
   ],
   "source": [
    "train_ml['sin_44'] .hist(bins=30)"
   ]
  },
  {
   "cell_type": "code",
   "execution_count": 45,
   "id": "44404451",
   "metadata": {},
   "outputs": [],
   "source": [
    "train_ml['sin_44'] = [1 if x == 0 else 0 for x in train_ml['sin_44']]"
   ]
  },
  {
   "cell_type": "code",
   "execution_count": 46,
   "id": "4188aeb4",
   "metadata": {},
   "outputs": [
    {
     "data": {
      "text/plain": [
       "sin_44\n",
       "0    2222971\n",
       "1     777029\n",
       "Name: count, dtype: int64"
      ]
     },
     "execution_count": 46,
     "metadata": {},
     "output_type": "execute_result"
    }
   ],
   "source": [
    "train_ml['sin_44'].value_counts()"
   ]
  },
  {
   "cell_type": "code",
   "execution_count": 47,
   "id": "ab4cd771",
   "metadata": {},
   "outputs": [
    {
     "data": {
      "text/plain": [
       "<Axes: >"
      ]
     },
     "execution_count": 47,
     "metadata": {},
     "output_type": "execute_result"
    },
    {
     "data": {
      "image/png": "[encoded data removed]",
      "text/plain": [
       "<Figure size 640x480 with 1 Axes>"
      ]
     },
     "metadata": {},
     "output_type": "display_data"
    }
   ],
   "source": [
    "train_ml['sin_70'] = train_ml['train_70'] - train_ml['70']\n",
    "train_ml['sin_70'].hist(bins=30)"
   ]
  },
  {
   "cell_type": "code",
   "execution_count": 48,
   "id": "03e6398b",
   "metadata": {},
   "outputs": [
    {
     "data": {
      "text/plain": [
       "sin_70\n",
       " 0.000000    445115\n",
       " 1.237565       457\n",
       "-1.237565       313\n",
       " 0.195571       109\n",
       " 1.993149       106\n",
       "              ...  \n",
       " 2.454418         1\n",
       "-1.325596         1\n",
       " 1.103527         1\n",
       "-0.123974         1\n",
       " 3.076721         1\n",
       "Name: count, Length: 1698439, dtype: int64"
      ]
     },
     "execution_count": 48,
     "metadata": {},
     "output_type": "execute_result"
    }
   ],
   "source": [
    "train_ml['sin_70'].value_counts()"
   ]
  },
  {
   "cell_type": "code",
   "execution_count": 49,
   "id": "a2c45de0",
   "metadata": {},
   "outputs": [],
   "source": [
    "train_ml['sin_70'] = [1 if x == 0 else 0 for x in train_ml['sin_70']]"
   ]
  },
  {
   "cell_type": "markdown",
   "id": "18b8d23f",
   "metadata": {},
   "source": [
    "Не все признаки запроса и товара совпадают друг с другом, но такие совпадения есть. Подсветим их для модели, обозначив такое полное совпадение единицей"
   ]
  },
  {
   "cell_type": "code",
   "execution_count": 50,
   "id": "15fafb3f",
   "metadata": {},
   "outputs": [
    {
     "data": {
      "text/plain": [
       "['train_Id',\n",
       " 'train_0',\n",
       " 'train_1',\n",
       " 'train_2',\n",
       " 'train_3',\n",
       " 'train_4',\n",
       " 'train_5',\n",
       " 'train_6',\n",
       " 'train_7',\n",
       " 'train_8',\n",
       " 'train_9',\n",
       " 'train_10',\n",
       " 'train_11',\n",
       " 'train_12',\n",
       " 'train_13',\n",
       " 'train_14',\n",
       " 'train_15',\n",
       " 'train_16',\n",
       " 'train_17',\n",
       " 'train_18',\n",
       " 'train_19',\n",
       " 'train_20',\n",
       " 'train_21',\n",
       " 'train_22',\n",
       " 'train_23',\n",
       " 'train_24',\n",
       " 'train_25',\n",
       " 'train_26',\n",
       " 'train_27',\n",
       " 'train_28',\n",
       " 'train_29',\n",
       " 'train_30',\n",
       " 'train_31',\n",
       " 'train_32',\n",
       " 'train_33',\n",
       " 'train_34',\n",
       " 'train_35',\n",
       " 'train_36',\n",
       " 'train_37',\n",
       " 'train_38',\n",
       " 'train_39',\n",
       " 'train_40',\n",
       " 'train_41',\n",
       " 'train_42',\n",
       " 'train_43',\n",
       " 'train_44',\n",
       " 'train_45',\n",
       " 'train_46',\n",
       " 'train_47',\n",
       " 'train_48',\n",
       " 'train_49',\n",
       " 'train_50',\n",
       " 'train_51',\n",
       " 'train_52',\n",
       " 'train_53',\n",
       " 'train_54',\n",
       " 'train_55',\n",
       " 'train_56',\n",
       " 'train_57',\n",
       " 'train_58',\n",
       " 'train_59',\n",
       " 'train_60',\n",
       " 'train_61',\n",
       " 'train_62',\n",
       " 'train_63',\n",
       " 'train_64',\n",
       " 'train_65',\n",
       " 'train_66',\n",
       " 'train_67',\n",
       " 'train_68',\n",
       " 'train_69',\n",
       " 'train_70',\n",
       " 'train_71',\n",
       " 'train_Target',\n",
       " 'base_index',\n",
       " 'distance',\n",
       " 'Id',\n",
       " '0',\n",
       " '1',\n",
       " '2',\n",
       " '3',\n",
       " '4',\n",
       " '5',\n",
       " '6',\n",
       " '7',\n",
       " '8',\n",
       " '9',\n",
       " '10',\n",
       " '11',\n",
       " '12',\n",
       " '13',\n",
       " '14',\n",
       " '15',\n",
       " '16',\n",
       " '17',\n",
       " '18',\n",
       " '19',\n",
       " '20',\n",
       " '21',\n",
       " '22',\n",
       " '23',\n",
       " '24',\n",
       " '25',\n",
       " '26',\n",
       " '27',\n",
       " '28',\n",
       " '29',\n",
       " '30',\n",
       " '31',\n",
       " '32',\n",
       " '33',\n",
       " '34',\n",
       " '35',\n",
       " '36',\n",
       " '37',\n",
       " '38',\n",
       " '39',\n",
       " '40',\n",
       " '41',\n",
       " '42',\n",
       " '43',\n",
       " '44',\n",
       " '45',\n",
       " '46',\n",
       " '47',\n",
       " '48',\n",
       " '49',\n",
       " '50',\n",
       " '51',\n",
       " '52',\n",
       " '53',\n",
       " '54',\n",
       " '55',\n",
       " '56',\n",
       " '57',\n",
       " '58',\n",
       " '59',\n",
       " '60',\n",
       " '61',\n",
       " '62',\n",
       " '63',\n",
       " '64',\n",
       " '65',\n",
       " '66',\n",
       " '67',\n",
       " '68',\n",
       " '69',\n",
       " '70',\n",
       " '71',\n",
       " 'binar_target',\n",
       " 'sin_6',\n",
       " 'sin_25',\n",
       " 'sin_33',\n",
       " 'sin_44',\n",
       " 'sin_70']"
      ]
     },
     "execution_count": 50,
     "metadata": {},
     "output_type": "execute_result"
    }
   ],
   "source": [
    "train_ml.columns.to_list()"
   ]
  },
  {
   "cell_type": "code",
   "execution_count": 51,
   "id": "598cab8b",
   "metadata": {},
   "outputs": [],
   "source": [
    "X_log = train_ml.drop(['train_Id','train_Target','Id', 'binar_target', 'base_index'], axis=1).astype('float32')\n",
    "y_log = train_ml['binar_target']"
   ]
  },
  {
   "cell_type": "code",
   "execution_count": 52,
   "id": "c59bcbc8",
   "metadata": {},
   "outputs": [],
   "source": [
    "X_train, X_val, y_train, y_val = train_test_split(X_log, y_log, test_size=0.2, random_state=42)"
   ]
  },
  {
   "cell_type": "code",
   "execution_count": 53,
   "id": "7026ce7f",
   "metadata": {},
   "outputs": [],
   "source": [
    "from sklearn.linear_model import LogisticRegression\n",
    "model_l = LogisticRegression(random_state=12345, solver='liblinear', class_weight='balanced')"
   ]
  },
  {
   "cell_type": "code",
   "execution_count": 54,
   "id": "63d5d78f",
   "metadata": {},
   "outputs": [
    {
     "data": {
      "text/html": [
       "<style>#sk-container-id-2 {color: black;}#sk-container-id-2 pre{padding: 0;}#sk-container-id-2 div.sk-toggleable {background-color: white;}#sk-container-id-2 label.sk-toggleable__label {cursor: pointer;display: block;width: 100%;margin-bottom: 0;padding: 0.3em;box-sizing: border-box;text-align: center;}#sk-container-id-2 label.sk-toggleable__label-arrow:before {content: \"▸\";float: left;margin-right: 0.25em;color: #696969;}#sk-container-id-2 label.sk-toggleable__label-arrow:hover:before {color: black;}#sk-container-id-2 div.sk-estimator:hover label.sk-toggleable__label-arrow:before {color: black;}#sk-container-id-2 div.sk-toggleable__content {max-height: 0;max-width: 0;overflow: hidden;text-align: left;background-color: #f0f8ff;}#sk-container-id-2 div.sk-toggleable__content pre {margin: 0.2em;color: black;border-radius: 0.25em;background-color: #f0f8ff;}#sk-container-id-2 input.sk-toggleable__control:checked~div.sk-toggleable__content {max-height: 200px;max-width: 100%;overflow: auto;}#sk-container-id-2 input.sk-toggleable__control:checked~label.sk-toggleable__label-arrow:before {content: \"▾\";}#sk-container-id-2 div.sk-estimator input.sk-toggleable__control:checked~label.sk-toggleable__label {background-color: #d4ebff;}#sk-container-id-2 div.sk-label input.sk-toggleable__control:checked~label.sk-toggleable__label {background-color: #d4ebff;}#sk-container-id-2 input.sk-hidden--visually {border: 0;clip: rect(1px 1px 1px 1px);clip: rect(1px, 1px, 1px, 1px);height: 1px;margin: -1px;overflow: hidden;padding: 0;position: absolute;width: 1px;}#sk-container-id-2 div.sk-estimator {font-family: monospace;background-color: #f0f8ff;border: 1px dotted black;border-radius: 0.25em;box-sizing: border-box;margin-bottom: 0.5em;}#sk-container-id-2 div.sk-estimator:hover {background-color: #d4ebff;}#sk-container-id-2 div.sk-parallel-item::after {content: \"\";width: 100%;border-bottom: 1px solid gray;flex-grow: 1;}#sk-container-id-2 div.sk-label:hover label.sk-toggleable__label {background-color: #d4ebff;}#sk-container-id-2 div.sk-serial::before {content: \"\";position: absolute;border-left: 1px solid gray;box-sizing: border-box;top: 0;bottom: 0;left: 50%;z-index: 0;}#sk-container-id-2 div.sk-serial {display: flex;flex-direction: column;align-items: center;background-color: white;padding-right: 0.2em;padding-left: 0.2em;position: relative;}#sk-container-id-2 div.sk-item {position: relative;z-index: 1;}#sk-container-id-2 div.sk-parallel {display: flex;align-items: stretch;justify-content: center;background-color: white;position: relative;}#sk-container-id-2 div.sk-item::before, #sk-container-id-2 div.sk-parallel-item::before {content: \"\";position: absolute;border-left: 1px solid gray;box-sizing: border-box;top: 0;bottom: 0;left: 50%;z-index: -1;}#sk-container-id-2 div.sk-parallel-item {display: flex;flex-direction: column;z-index: 1;position: relative;background-color: white;}#sk-container-id-2 div.sk-parallel-item:first-child::after {align-self: flex-end;width: 50%;}#sk-container-id-2 div.sk-parallel-item:last-child::after {align-self: flex-start;width: 50%;}#sk-container-id-2 div.sk-parallel-item:only-child::after {width: 0;}#sk-container-id-2 div.sk-dashed-wrapped {border: 1px dashed gray;margin: 0 0.4em 0.5em 0.4em;box-sizing: border-box;padding-bottom: 0.4em;background-color: white;}#sk-container-id-2 div.sk-label label {font-family: monospace;font-weight: bold;display: inline-block;line-height: 1.2em;}#sk-container-id-2 div.sk-label-container {text-align: center;}#sk-container-id-2 div.sk-container {/* jupyter's `normalize.less` sets `[hidden] { display: none; }` but bootstrap.min.css set `[hidden] { display: none !important; }` so we also need the `!important` here to be able to override the default hidden behavior on the sphinx rendered scikit-learn.org. See: https://github.com/scikit-learn/scikit-learn/issues/21755 */display: inline-block !important;position: relative;}#sk-container-id-2 div.sk-text-repr-fallback {display: none;}</style><div id=\"sk-container-id-2\" class=\"sk-top-container\"><div class=\"sk-text-repr-fallback\"><pre>LogisticRegression(class_weight=&#x27;balanced&#x27;, random_state=12345,\n",
       "                   solver=&#x27;liblinear&#x27;)</pre><b>In a Jupyter environment, please rerun this cell to show the HTML representation or trust the notebook. <br />On GitHub, the HTML representation is unable to render, please try loading this page with nbviewer.org.</b></div><div class=\"sk-container\" hidden><div class=\"sk-item\"><div class=\"sk-estimator sk-toggleable\"><input class=\"sk-toggleable__control sk-hidden--visually\" id=\"sk-estimator-id-2\" type=\"checkbox\" checked><label for=\"sk-estimator-id-2\" class=\"sk-toggleable__label sk-toggleable__label-arrow\">LogisticRegression</label><div class=\"sk-toggleable__content\"><pre>LogisticRegression(class_weight=&#x27;balanced&#x27;, random_state=12345,\n",
       "                   solver=&#x27;liblinear&#x27;)</pre></div></div></div></div></div>"
      ],
      "text/plain": [
       "LogisticRegression(class_weight='balanced', random_state=12345,\n",
       "                   solver='liblinear')"
      ]
     },
     "execution_count": 54,
     "metadata": {},
     "output_type": "execute_result"
    }
   ],
   "source": [
    "model_l.fit(X_train, y_train)"
   ]
  },
  {
   "cell_type": "code",
   "execution_count": 55,
   "id": "1bf72ace",
   "metadata": {},
   "outputs": [
    {
     "name": "stdout",
     "output_type": "stream",
     "text": [
      "54381 13549\n"
     ]
    }
   ],
   "source": [
    "pred_2 = model_l.predict(X_val)\n",
    "print(sum(pred_2), sum(y_val))"
   ]
  },
  {
   "cell_type": "code",
   "execution_count": 56,
   "id": "763c2d3f",
   "metadata": {},
   "outputs": [
    {
     "name": "stdout",
     "output_type": "stream",
     "text": [
      "62.15\n",
      "12430\n"
     ]
    }
   ],
   "source": [
    "acc5 = 0\n",
    "for pred, targ in zip(pred_2, y_val):\n",
    "    if pred == targ and targ == 1:\n",
    "        acc5 += 1\n",
    "\n",
    "print(100 * acc5 / (len(pred_2)/k2))\n",
    "print(acc5)"
   ]
  },
  {
   "cell_type": "code",
   "execution_count": 57,
   "id": "6720a438",
   "metadata": {},
   "outputs": [],
   "source": [
    "from catboost import CatBoostClassifier\n",
    "catboost_model = CatBoostClassifier(iterations=500, learning_rate=0.15)"
   ]
  },
  {
   "cell_type": "raw",
   "id": "6b48873d",
   "metadata": {
    "scrolled": true
   },
   "source": [
    "catboost_model.fit(X_train, y_train, \n",
    "                   eval_set=(X_val, y_val),\n",
    "                   verbose=False)"
   ]
  },
  {
   "cell_type": "raw",
   "id": "0bd06289",
   "metadata": {},
   "source": [
    "pred_4 = catboost_model.predict(X_val)"
   ]
  },
  {
   "cell_type": "raw",
   "id": "1ec41c4b",
   "metadata": {},
   "source": [
    "acc_cb = 0\n",
    "for pred, targ in zip(pred_4, y_val):\n",
    "    if pred == targ and targ == 1:\n",
    "        acc_cb += 1\n",
    "\n",
    "print(100 * acc_cb / (len(pred_4)/k2))\n",
    "print(acc_cb)"
   ]
  },
  {
   "cell_type": "markdown",
   "id": "2f0fc8ce",
   "metadata": {},
   "source": [
    "## Validation"
   ]
  },
  {
   "cell_type": "code",
   "execution_count": 58,
   "id": "518fbfce",
   "metadata": {},
   "outputs": [],
   "source": [
    "valid = pd.read_csv('validation.csv')\n",
    "valid_answer = pd.read_csv('validation_answer.csv')"
   ]
  },
  {
   "cell_type": "code",
   "execution_count": 59,
   "id": "6290b43e",
   "metadata": {},
   "outputs": [
    {
     "data": {
      "text/html": [
       "<div>\n",
       "<style scoped>\n",
       "    .dataframe tbody tr th:only-of-type {\n",
       "        vertical-align: middle;\n",
       "    }\n",
       "\n",
       "    .dataframe tbody tr th {\n",
       "        vertical-align: top;\n",
       "    }\n",
       "\n",
       "    .dataframe thead th {\n",
       "        text-align: right;\n",
       "    }\n",
       "</style>\n",
       "<table border=\"1\" class=\"dataframe\">\n",
       "  <thead>\n",
       "    <tr style=\"text-align: right;\">\n",
       "      <th></th>\n",
       "      <th>Id</th>\n",
       "      <th>0</th>\n",
       "      <th>1</th>\n",
       "      <th>2</th>\n",
       "      <th>3</th>\n",
       "      <th>4</th>\n",
       "      <th>5</th>\n",
       "      <th>6</th>\n",
       "      <th>7</th>\n",
       "      <th>8</th>\n",
       "      <th>...</th>\n",
       "      <th>62</th>\n",
       "      <th>63</th>\n",
       "      <th>64</th>\n",
       "      <th>65</th>\n",
       "      <th>66</th>\n",
       "      <th>67</th>\n",
       "      <th>68</th>\n",
       "      <th>69</th>\n",
       "      <th>70</th>\n",
       "      <th>71</th>\n",
       "    </tr>\n",
       "  </thead>\n",
       "  <tbody>\n",
       "    <tr>\n",
       "      <th>0</th>\n",
       "      <td>100000-query</td>\n",
       "      <td>-57.372734</td>\n",
       "      <td>3.597752</td>\n",
       "      <td>-13.213642</td>\n",
       "      <td>-125.926790</td>\n",
       "      <td>110.745940</td>\n",
       "      <td>-81.279594</td>\n",
       "      <td>-461.003172</td>\n",
       "      <td>139.815720</td>\n",
       "      <td>112.880980</td>\n",
       "      <td>...</td>\n",
       "      <td>-75.513020</td>\n",
       "      <td>52.830902</td>\n",
       "      <td>-143.43945</td>\n",
       "      <td>59.051935</td>\n",
       "      <td>69.28224</td>\n",
       "      <td>61.927513</td>\n",
       "      <td>111.592530</td>\n",
       "      <td>115.140656</td>\n",
       "      <td>-1099.130485</td>\n",
       "      <td>-117.079360</td>\n",
       "    </tr>\n",
       "    <tr>\n",
       "      <th>1</th>\n",
       "      <td>100001-query</td>\n",
       "      <td>-53.758705</td>\n",
       "      <td>12.790300</td>\n",
       "      <td>-43.268543</td>\n",
       "      <td>-134.417620</td>\n",
       "      <td>114.449910</td>\n",
       "      <td>-90.520130</td>\n",
       "      <td>-759.626065</td>\n",
       "      <td>63.995087</td>\n",
       "      <td>127.117905</td>\n",
       "      <td>...</td>\n",
       "      <td>-79.441830</td>\n",
       "      <td>29.185436</td>\n",
       "      <td>-168.60590</td>\n",
       "      <td>-82.872443</td>\n",
       "      <td>70.76560</td>\n",
       "      <td>-65.975950</td>\n",
       "      <td>97.077160</td>\n",
       "      <td>123.391640</td>\n",
       "      <td>-744.442332</td>\n",
       "      <td>-25.009320</td>\n",
       "    </tr>\n",
       "    <tr>\n",
       "      <th>2</th>\n",
       "      <td>100002-query</td>\n",
       "      <td>-64.175095</td>\n",
       "      <td>-3.980927</td>\n",
       "      <td>-7.679249</td>\n",
       "      <td>-170.160930</td>\n",
       "      <td>96.446160</td>\n",
       "      <td>-62.377740</td>\n",
       "      <td>-759.626065</td>\n",
       "      <td>87.477554</td>\n",
       "      <td>131.270110</td>\n",
       "      <td>...</td>\n",
       "      <td>-134.795410</td>\n",
       "      <td>37.368730</td>\n",
       "      <td>-159.66231</td>\n",
       "      <td>-119.232725</td>\n",
       "      <td>67.71044</td>\n",
       "      <td>86.002060</td>\n",
       "      <td>137.636410</td>\n",
       "      <td>141.081630</td>\n",
       "      <td>-294.052271</td>\n",
       "      <td>-70.969604</td>\n",
       "    </tr>\n",
       "    <tr>\n",
       "      <th>3</th>\n",
       "      <td>100003-query</td>\n",
       "      <td>-99.286860</td>\n",
       "      <td>16.123936</td>\n",
       "      <td>9.837166</td>\n",
       "      <td>-148.060440</td>\n",
       "      <td>83.697080</td>\n",
       "      <td>-133.729720</td>\n",
       "      <td>58.576403</td>\n",
       "      <td>-19.046660</td>\n",
       "      <td>115.042404</td>\n",
       "      <td>...</td>\n",
       "      <td>-77.236110</td>\n",
       "      <td>44.100494</td>\n",
       "      <td>-132.53012</td>\n",
       "      <td>-106.318982</td>\n",
       "      <td>70.88396</td>\n",
       "      <td>23.577892</td>\n",
       "      <td>133.183960</td>\n",
       "      <td>143.252940</td>\n",
       "      <td>-799.363667</td>\n",
       "      <td>-89.392670</td>\n",
       "    </tr>\n",
       "    <tr>\n",
       "      <th>4</th>\n",
       "      <td>100004-query</td>\n",
       "      <td>-79.532920</td>\n",
       "      <td>-0.364173</td>\n",
       "      <td>-16.027431</td>\n",
       "      <td>-170.884950</td>\n",
       "      <td>165.453920</td>\n",
       "      <td>-28.291668</td>\n",
       "      <td>33.931936</td>\n",
       "      <td>34.411217</td>\n",
       "      <td>128.903980</td>\n",
       "      <td>...</td>\n",
       "      <td>-123.770250</td>\n",
       "      <td>45.635944</td>\n",
       "      <td>-134.25893</td>\n",
       "      <td>13.735359</td>\n",
       "      <td>70.61763</td>\n",
       "      <td>15.332115</td>\n",
       "      <td>154.568120</td>\n",
       "      <td>101.700640</td>\n",
       "      <td>-1171.892332</td>\n",
       "      <td>-125.307890</td>\n",
       "    </tr>\n",
       "    <tr>\n",
       "      <th>...</th>\n",
       "      <td>...</td>\n",
       "      <td>...</td>\n",
       "      <td>...</td>\n",
       "      <td>...</td>\n",
       "      <td>...</td>\n",
       "      <td>...</td>\n",
       "      <td>...</td>\n",
       "      <td>...</td>\n",
       "      <td>...</td>\n",
       "      <td>...</td>\n",
       "      <td>...</td>\n",
       "      <td>...</td>\n",
       "      <td>...</td>\n",
       "      <td>...</td>\n",
       "      <td>...</td>\n",
       "      <td>...</td>\n",
       "      <td>...</td>\n",
       "      <td>...</td>\n",
       "      <td>...</td>\n",
       "      <td>...</td>\n",
       "      <td>...</td>\n",
       "    </tr>\n",
       "    <tr>\n",
       "      <th>99995</th>\n",
       "      <td>199995-query</td>\n",
       "      <td>-46.672780</td>\n",
       "      <td>6.644193</td>\n",
       "      <td>7.376480</td>\n",
       "      <td>-116.126400</td>\n",
       "      <td>80.031715</td>\n",
       "      <td>-48.248695</td>\n",
       "      <td>-17.696937</td>\n",
       "      <td>108.150240</td>\n",
       "      <td>122.729744</td>\n",
       "      <td>...</td>\n",
       "      <td>-65.641110</td>\n",
       "      <td>62.823895</td>\n",
       "      <td>-148.86781</td>\n",
       "      <td>-66.402868</td>\n",
       "      <td>66.99333</td>\n",
       "      <td>76.524155</td>\n",
       "      <td>66.525670</td>\n",
       "      <td>112.273720</td>\n",
       "      <td>-177.375834</td>\n",
       "      <td>-82.804726</td>\n",
       "    </tr>\n",
       "    <tr>\n",
       "      <th>99996</th>\n",
       "      <td>199996-query</td>\n",
       "      <td>-94.786316</td>\n",
       "      <td>10.852646</td>\n",
       "      <td>13.700245</td>\n",
       "      <td>-125.619385</td>\n",
       "      <td>21.545967</td>\n",
       "      <td>-89.625534</td>\n",
       "      <td>79.880236</td>\n",
       "      <td>-46.513206</td>\n",
       "      <td>123.578730</td>\n",
       "      <td>...</td>\n",
       "      <td>-65.032900</td>\n",
       "      <td>38.019740</td>\n",
       "      <td>-113.62750</td>\n",
       "      <td>-18.436499</td>\n",
       "      <td>64.16223</td>\n",
       "      <td>-117.032380</td>\n",
       "      <td>94.026490</td>\n",
       "      <td>86.279526</td>\n",
       "      <td>-1271.502930</td>\n",
       "      <td>-63.491104</td>\n",
       "    </tr>\n",
       "    <tr>\n",
       "      <th>99997</th>\n",
       "      <td>199997-query</td>\n",
       "      <td>-59.224453</td>\n",
       "      <td>13.585838</td>\n",
       "      <td>22.655106</td>\n",
       "      <td>-134.926030</td>\n",
       "      <td>145.205690</td>\n",
       "      <td>-63.278100</td>\n",
       "      <td>-109.805058</td>\n",
       "      <td>16.277431</td>\n",
       "      <td>128.150040</td>\n",
       "      <td>...</td>\n",
       "      <td>-48.826626</td>\n",
       "      <td>39.679783</td>\n",
       "      <td>-149.33646</td>\n",
       "      <td>160.609919</td>\n",
       "      <td>71.55922</td>\n",
       "      <td>25.237282</td>\n",
       "      <td>-35.985450</td>\n",
       "      <td>97.924790</td>\n",
       "      <td>73.080770</td>\n",
       "      <td>-28.081186</td>\n",
       "    </tr>\n",
       "    <tr>\n",
       "      <th>99998</th>\n",
       "      <td>199998-query</td>\n",
       "      <td>-33.353630</td>\n",
       "      <td>11.671304</td>\n",
       "      <td>-31.577808</td>\n",
       "      <td>-127.493970</td>\n",
       "      <td>75.580860</td>\n",
       "      <td>-36.508230</td>\n",
       "      <td>-759.626065</td>\n",
       "      <td>-80.221510</td>\n",
       "      <td>123.711910</td>\n",
       "      <td>...</td>\n",
       "      <td>-66.512146</td>\n",
       "      <td>15.792774</td>\n",
       "      <td>-143.07475</td>\n",
       "      <td>138.192370</td>\n",
       "      <td>68.22584</td>\n",
       "      <td>115.506546</td>\n",
       "      <td>-37.607803</td>\n",
       "      <td>149.608570</td>\n",
       "      <td>-173.070396</td>\n",
       "      <td>-60.923080</td>\n",
       "    </tr>\n",
       "    <tr>\n",
       "      <th>99999</th>\n",
       "      <td>199999-query</td>\n",
       "      <td>-40.757560</td>\n",
       "      <td>6.832712</td>\n",
       "      <td>-29.993444</td>\n",
       "      <td>-156.309200</td>\n",
       "      <td>108.846780</td>\n",
       "      <td>-59.340584</td>\n",
       "      <td>-603.133148</td>\n",
       "      <td>-42.484253</td>\n",
       "      <td>119.490900</td>\n",
       "      <td>...</td>\n",
       "      <td>-81.463290</td>\n",
       "      <td>28.412325</td>\n",
       "      <td>-171.74120</td>\n",
       "      <td>96.704654</td>\n",
       "      <td>66.79330</td>\n",
       "      <td>0.089361</td>\n",
       "      <td>175.958590</td>\n",
       "      <td>131.007740</td>\n",
       "      <td>-618.555199</td>\n",
       "      <td>-33.217857</td>\n",
       "    </tr>\n",
       "  </tbody>\n",
       "</table>\n",
       "<p>100000 rows × 73 columns</p>\n",
       "</div>"
      ],
      "text/plain": [
       "                 Id          0          1          2           3           4  \\\n",
       "0      100000-query -57.372734   3.597752 -13.213642 -125.926790  110.745940   \n",
       "1      100001-query -53.758705  12.790300 -43.268543 -134.417620  114.449910   \n",
       "2      100002-query -64.175095  -3.980927  -7.679249 -170.160930   96.446160   \n",
       "3      100003-query -99.286860  16.123936   9.837166 -148.060440   83.697080   \n",
       "4      100004-query -79.532920  -0.364173 -16.027431 -170.884950  165.453920   \n",
       "...             ...        ...        ...        ...         ...         ...   \n",
       "99995  199995-query -46.672780   6.644193   7.376480 -116.126400   80.031715   \n",
       "99996  199996-query -94.786316  10.852646  13.700245 -125.619385   21.545967   \n",
       "99997  199997-query -59.224453  13.585838  22.655106 -134.926030  145.205690   \n",
       "99998  199998-query -33.353630  11.671304 -31.577808 -127.493970   75.580860   \n",
       "99999  199999-query -40.757560   6.832712 -29.993444 -156.309200  108.846780   \n",
       "\n",
       "                5           6           7           8  ...          62  \\\n",
       "0      -81.279594 -461.003172  139.815720  112.880980  ...  -75.513020   \n",
       "1      -90.520130 -759.626065   63.995087  127.117905  ...  -79.441830   \n",
       "2      -62.377740 -759.626065   87.477554  131.270110  ... -134.795410   \n",
       "3     -133.729720   58.576403  -19.046660  115.042404  ...  -77.236110   \n",
       "4      -28.291668   33.931936   34.411217  128.903980  ... -123.770250   \n",
       "...           ...         ...         ...         ...  ...         ...   \n",
       "99995  -48.248695  -17.696937  108.150240  122.729744  ...  -65.641110   \n",
       "99996  -89.625534   79.880236  -46.513206  123.578730  ...  -65.032900   \n",
       "99997  -63.278100 -109.805058   16.277431  128.150040  ...  -48.826626   \n",
       "99998  -36.508230 -759.626065  -80.221510  123.711910  ...  -66.512146   \n",
       "99999  -59.340584 -603.133148  -42.484253  119.490900  ...  -81.463290   \n",
       "\n",
       "              63         64          65        66          67          68  \\\n",
       "0      52.830902 -143.43945   59.051935  69.28224   61.927513  111.592530   \n",
       "1      29.185436 -168.60590  -82.872443  70.76560  -65.975950   97.077160   \n",
       "2      37.368730 -159.66231 -119.232725  67.71044   86.002060  137.636410   \n",
       "3      44.100494 -132.53012 -106.318982  70.88396   23.577892  133.183960   \n",
       "4      45.635944 -134.25893   13.735359  70.61763   15.332115  154.568120   \n",
       "...          ...        ...         ...       ...         ...         ...   \n",
       "99995  62.823895 -148.86781  -66.402868  66.99333   76.524155   66.525670   \n",
       "99996  38.019740 -113.62750  -18.436499  64.16223 -117.032380   94.026490   \n",
       "99997  39.679783 -149.33646  160.609919  71.55922   25.237282  -35.985450   \n",
       "99998  15.792774 -143.07475  138.192370  68.22584  115.506546  -37.607803   \n",
       "99999  28.412325 -171.74120   96.704654  66.79330    0.089361  175.958590   \n",
       "\n",
       "               69           70          71  \n",
       "0      115.140656 -1099.130485 -117.079360  \n",
       "1      123.391640  -744.442332  -25.009320  \n",
       "2      141.081630  -294.052271  -70.969604  \n",
       "3      143.252940  -799.363667  -89.392670  \n",
       "4      101.700640 -1171.892332 -125.307890  \n",
       "...           ...          ...         ...  \n",
       "99995  112.273720  -177.375834  -82.804726  \n",
       "99996   86.279526 -1271.502930  -63.491104  \n",
       "99997   97.924790    73.080770  -28.081186  \n",
       "99998  149.608570  -173.070396  -60.923080  \n",
       "99999  131.007740  -618.555199  -33.217857  \n",
       "\n",
       "[100000 rows x 73 columns]"
      ]
     },
     "execution_count": 59,
     "metadata": {},
     "output_type": "execute_result"
    }
   ],
   "source": [
    "valid"
   ]
  },
  {
   "cell_type": "code",
   "execution_count": 60,
   "id": "1d53db62",
   "metadata": {},
   "outputs": [
    {
     "data": {
      "text/html": [
       "<div>\n",
       "<style scoped>\n",
       "    .dataframe tbody tr th:only-of-type {\n",
       "        vertical-align: middle;\n",
       "    }\n",
       "\n",
       "    .dataframe tbody tr th {\n",
       "        vertical-align: top;\n",
       "    }\n",
       "\n",
       "    .dataframe thead th {\n",
       "        text-align: right;\n",
       "    }\n",
       "</style>\n",
       "<table border=\"1\" class=\"dataframe\">\n",
       "  <thead>\n",
       "    <tr style=\"text-align: right;\">\n",
       "      <th></th>\n",
       "      <th>Id</th>\n",
       "      <th>Expected</th>\n",
       "    </tr>\n",
       "  </thead>\n",
       "  <tbody>\n",
       "    <tr>\n",
       "      <th>0</th>\n",
       "      <td>100000-query</td>\n",
       "      <td>2676668-base</td>\n",
       "    </tr>\n",
       "    <tr>\n",
       "      <th>1</th>\n",
       "      <td>100001-query</td>\n",
       "      <td>91606-base</td>\n",
       "    </tr>\n",
       "    <tr>\n",
       "      <th>2</th>\n",
       "      <td>100002-query</td>\n",
       "      <td>472256-base</td>\n",
       "    </tr>\n",
       "    <tr>\n",
       "      <th>3</th>\n",
       "      <td>100003-query</td>\n",
       "      <td>3168654-base</td>\n",
       "    </tr>\n",
       "    <tr>\n",
       "      <th>4</th>\n",
       "      <td>100004-query</td>\n",
       "      <td>75484-base</td>\n",
       "    </tr>\n",
       "    <tr>\n",
       "      <th>...</th>\n",
       "      <td>...</td>\n",
       "      <td>...</td>\n",
       "    </tr>\n",
       "    <tr>\n",
       "      <th>99995</th>\n",
       "      <td>199995-query</td>\n",
       "      <td>967418-base</td>\n",
       "    </tr>\n",
       "    <tr>\n",
       "      <th>99996</th>\n",
       "      <td>199996-query</td>\n",
       "      <td>1344948-base</td>\n",
       "    </tr>\n",
       "    <tr>\n",
       "      <th>99997</th>\n",
       "      <td>199997-query</td>\n",
       "      <td>1690782-base</td>\n",
       "    </tr>\n",
       "    <tr>\n",
       "      <th>99998</th>\n",
       "      <td>199998-query</td>\n",
       "      <td>341779-base</td>\n",
       "    </tr>\n",
       "    <tr>\n",
       "      <th>99999</th>\n",
       "      <td>199999-query</td>\n",
       "      <td>336472-base</td>\n",
       "    </tr>\n",
       "  </tbody>\n",
       "</table>\n",
       "<p>100000 rows × 2 columns</p>\n",
       "</div>"
      ],
      "text/plain": [
       "                 Id      Expected\n",
       "0      100000-query  2676668-base\n",
       "1      100001-query    91606-base\n",
       "2      100002-query   472256-base\n",
       "3      100003-query  3168654-base\n",
       "4      100004-query    75484-base\n",
       "...             ...           ...\n",
       "99995  199995-query   967418-base\n",
       "99996  199996-query  1344948-base\n",
       "99997  199997-query  1690782-base\n",
       "99998  199998-query   341779-base\n",
       "99999  199999-query   336472-base\n",
       "\n",
       "[100000 rows x 2 columns]"
      ]
     },
     "execution_count": 60,
     "metadata": {},
     "output_type": "execute_result"
    }
   ],
   "source": [
    "valid_answer"
   ]
  },
  {
   "cell_type": "code",
   "execution_count": 61,
   "id": "dd26e0db",
   "metadata": {},
   "outputs": [],
   "source": [
    "valid_answer.columns = ['query_Id', 'Expected']"
   ]
  },
  {
   "cell_type": "code",
   "execution_count": 62,
   "id": "61f3622e",
   "metadata": {},
   "outputs": [],
   "source": [
    "valid[num] = scaler.transform(valid[num])"
   ]
  },
  {
   "cell_type": "code",
   "execution_count": 63,
   "id": "5e79016d",
   "metadata": {},
   "outputs": [],
   "source": [
    "valid_faiss =  valid.drop(['Id','6','21','25','33', '44','59','65','70'], axis=1)"
   ]
  },
  {
   "cell_type": "code",
   "execution_count": 64,
   "id": "279fcd47",
   "metadata": {},
   "outputs": [],
   "source": [
    "k2 = 30\n",
    "r, idx = idx_l2.search(np.ascontiguousarray(valid_faiss.values).astype('float32'), k2)"
   ]
  },
  {
   "cell_type": "code",
   "execution_count": 65,
   "id": "9411a2a8",
   "metadata": {},
   "outputs": [
    {
     "data": {
      "text/plain": [
       "array([[1954150, 2192372, 1225777, ..., 1660795,   61198, 1595615],\n",
       "       [1902634,   11829, 2528494, ..., 1924108, 2512114,  575827],\n",
       "       [ 431806,  451870,   24989, ..., 1916198, 1674860, 2645418],\n",
       "       ...,\n",
       "       [1392746, 1731267,  991639, ..., 2861594, 2641755,  262495],\n",
       "       [ 319526, 2622710, 2253420, ..., 2826467, 2113162,  215144],\n",
       "       [1811737, 1537302,  315821, ..., 1422760, 1986113, 2597193]],\n",
       "      dtype=int64)"
      ]
     },
     "execution_count": 65,
     "metadata": {},
     "output_type": "execute_result"
    }
   ],
   "source": [
    "idx"
   ]
  },
  {
   "cell_type": "code",
   "execution_count": 66,
   "id": "c6fe90bd",
   "metadata": {},
   "outputs": [
    {
     "name": "stdout",
     "output_type": "stream",
     "text": [
      "accuracy@30: 66.88\n"
     ]
    }
   ],
   "source": [
    "acc = 0\n",
    "for target, el in zip(valid_answer['Expected'].values.tolist(), idx.tolist()):\n",
    "    acc += int(target in [base_index[r] for r in el])\n",
    "\n",
    "print(f'accuracy@30: {100 * acc / len(idx)}')"
   ]
  },
  {
   "cell_type": "code",
   "execution_count": 67,
   "id": "9c5c8b86",
   "metadata": {},
   "outputs": [
    {
     "data": {
      "text/plain": [
       "(3000000, 73)"
      ]
     },
     "execution_count": 67,
     "metadata": {},
     "output_type": "execute_result"
    }
   ],
   "source": [
    "new_index = valid.index.repeat(k2)\n",
    "valid_repeated = valid.loc[new_index].reset_index(drop=True)\n",
    "\n",
    "valid_repeated.shape"
   ]
  },
  {
   "cell_type": "code",
   "execution_count": 69,
   "id": "661a6171",
   "metadata": {},
   "outputs": [],
   "source": [
    "# переименуем признаки теста:\n",
    "for column in valid_repeated.columns:\n",
    "    valid_repeated.rename(columns = {column : f'train_{column}'}, inplace = True )"
   ]
  },
  {
   "cell_type": "code",
   "execution_count": 70,
   "id": "d05ec6b2",
   "metadata": {},
   "outputs": [],
   "source": [
    "all_indices = [idx for sublist in idx for idx in sublist] # список индексов faiss\n",
    "all_distances = [dist for sublist in r for dist in sublist] # список расстояний faiss\n",
    "\n",
    "valid_repeated['base_index'] = all_indices\n",
    "valid_repeated['distance'] = all_distances"
   ]
  },
  {
   "cell_type": "code",
   "execution_count": 71,
   "id": "a34416c7",
   "metadata": {},
   "outputs": [],
   "source": [
    "valid_repeated['Id'] = valid_repeated['base_index'].map(base_index)"
   ]
  },
  {
   "cell_type": "code",
   "execution_count": 72,
   "id": "88e94616",
   "metadata": {},
   "outputs": [],
   "source": [
    "valid_ml = pd.merge(valid_repeated, base, on='Id', sort=False)"
   ]
  },
  {
   "cell_type": "code",
   "execution_count": 74,
   "id": "16e2c31f",
   "metadata": {},
   "outputs": [
    {
     "data": {
      "text/plain": [
       "['train_Id',\n",
       " 'train_0',\n",
       " 'train_1',\n",
       " 'train_2',\n",
       " 'train_3',\n",
       " 'train_4',\n",
       " 'train_5',\n",
       " 'train_6',\n",
       " 'train_7',\n",
       " 'train_8',\n",
       " 'train_9',\n",
       " 'train_10',\n",
       " 'train_11',\n",
       " 'train_12',\n",
       " 'train_13',\n",
       " 'train_14',\n",
       " 'train_15',\n",
       " 'train_16',\n",
       " 'train_17',\n",
       " 'train_18',\n",
       " 'train_19',\n",
       " 'train_20',\n",
       " 'train_21',\n",
       " 'train_22',\n",
       " 'train_23',\n",
       " 'train_24',\n",
       " 'train_25',\n",
       " 'train_26',\n",
       " 'train_27',\n",
       " 'train_28',\n",
       " 'train_29',\n",
       " 'train_30',\n",
       " 'train_31',\n",
       " 'train_32',\n",
       " 'train_33',\n",
       " 'train_34',\n",
       " 'train_35',\n",
       " 'train_36',\n",
       " 'train_37',\n",
       " 'train_38',\n",
       " 'train_39',\n",
       " 'train_40',\n",
       " 'train_41',\n",
       " 'train_42',\n",
       " 'train_43',\n",
       " 'train_44',\n",
       " 'train_45',\n",
       " 'train_46',\n",
       " 'train_47',\n",
       " 'train_48',\n",
       " 'train_49',\n",
       " 'train_50',\n",
       " 'train_51',\n",
       " 'train_52',\n",
       " 'train_53',\n",
       " 'train_54',\n",
       " 'train_55',\n",
       " 'train_56',\n",
       " 'train_57',\n",
       " 'train_58',\n",
       " 'train_59',\n",
       " 'train_60',\n",
       " 'train_61',\n",
       " 'train_62',\n",
       " 'train_63',\n",
       " 'train_64',\n",
       " 'train_65',\n",
       " 'train_66',\n",
       " 'train_67',\n",
       " 'train_68',\n",
       " 'train_69',\n",
       " 'train_70',\n",
       " 'train_71',\n",
       " 'base_index',\n",
       " 'distance',\n",
       " 'Id',\n",
       " '0',\n",
       " '1',\n",
       " '2',\n",
       " '3',\n",
       " '4',\n",
       " '5',\n",
       " '6',\n",
       " '7',\n",
       " '8',\n",
       " '9',\n",
       " '10',\n",
       " '11',\n",
       " '12',\n",
       " '13',\n",
       " '14',\n",
       " '15',\n",
       " '16',\n",
       " '17',\n",
       " '18',\n",
       " '19',\n",
       " '20',\n",
       " '21',\n",
       " '22',\n",
       " '23',\n",
       " '24',\n",
       " '25',\n",
       " '26',\n",
       " '27',\n",
       " '28',\n",
       " '29',\n",
       " '30',\n",
       " '31',\n",
       " '32',\n",
       " '33',\n",
       " '34',\n",
       " '35',\n",
       " '36',\n",
       " '37',\n",
       " '38',\n",
       " '39',\n",
       " '40',\n",
       " '41',\n",
       " '42',\n",
       " '43',\n",
       " '44',\n",
       " '45',\n",
       " '46',\n",
       " '47',\n",
       " '48',\n",
       " '49',\n",
       " '50',\n",
       " '51',\n",
       " '52',\n",
       " '53',\n",
       " '54',\n",
       " '55',\n",
       " '56',\n",
       " '57',\n",
       " '58',\n",
       " '59',\n",
       " '60',\n",
       " '61',\n",
       " '62',\n",
       " '63',\n",
       " '64',\n",
       " '65',\n",
       " '66',\n",
       " '67',\n",
       " '68',\n",
       " '69',\n",
       " '70',\n",
       " '71']"
      ]
     },
     "execution_count": 74,
     "metadata": {},
     "output_type": "execute_result"
    }
   ],
   "source": [
    "valid_ml.columns.to_list()"
   ]
  },
  {
   "cell_type": "code",
   "execution_count": 75,
   "id": "a0974bc5",
   "metadata": {},
   "outputs": [],
   "source": [
    "# в тестовой выборке необходимо создать новые признаки\n",
    "features = ['train_6', 'train_25', 'train_33', 'train_44', 'train_70', '6','25','33', '44','70']"
   ]
  },
  {
   "cell_type": "code",
   "execution_count": 76,
   "id": "b9e79a22",
   "metadata": {},
   "outputs": [],
   "source": [
    "valid_ml['sin_6'] = valid_ml['train_6'] - valid_ml['6']\n",
    "valid_ml['sin_6'] = [1 if x==0 else 0 for x in valid_ml['sin_6']]"
   ]
  },
  {
   "cell_type": "code",
   "execution_count": 77,
   "id": "8f3487c9",
   "metadata": {},
   "outputs": [],
   "source": [
    "valid_ml['sin_25'] = valid_ml['train_25'] - valid_ml['25']\n",
    "valid_ml['sin_25'] = [1 if x==0 else 0 for x in valid_ml['sin_25']]"
   ]
  },
  {
   "cell_type": "code",
   "execution_count": 78,
   "id": "adb3b67f",
   "metadata": {},
   "outputs": [],
   "source": [
    "valid_ml['sin_33'] = valid_ml['train_33'] - valid_ml['33']\n",
    "valid_ml['sin_33'] = [1 if x==0 else 0 for x in valid_ml['sin_33']]"
   ]
  },
  {
   "cell_type": "code",
   "execution_count": 79,
   "id": "7792971b",
   "metadata": {},
   "outputs": [],
   "source": [
    "valid_ml['sin_44'] = valid_ml['train_44'] - valid_ml['44']\n",
    "valid_ml['sin_44'] = [1 if x==0 else 0 for x in valid_ml['sin_44']]"
   ]
  },
  {
   "cell_type": "code",
   "execution_count": 80,
   "id": "50772b81",
   "metadata": {},
   "outputs": [],
   "source": [
    "valid_ml['sin_70'] = valid_ml['train_70'] - valid_ml['70']\n",
    "valid_ml['sin_70'] = [1 if x==0 else 0 for x in valid_ml['sin_70']]"
   ]
  },
  {
   "cell_type": "code",
   "execution_count": 81,
   "id": "12b10822",
   "metadata": {},
   "outputs": [],
   "source": [
    "# подготовим данные для модели регрессии\n",
    "X_valid = valid_ml.drop(['train_Id','Id','base_index'], axis=1).astype('float32')"
   ]
  },
  {
   "cell_type": "code",
   "execution_count": 82,
   "id": "34c57b6f",
   "metadata": {},
   "outputs": [],
   "source": [
    "# получим предсказание:\n",
    "test_predict = model_l.predict(X_valid)"
   ]
  },
  {
   "cell_type": "code",
   "execution_count": 83,
   "id": "11ee52c8",
   "metadata": {},
   "outputs": [],
   "source": [
    "valid_ml['predict'] = test_predict\n",
    "\n",
    "valid_ml['query_Id']= valid_ml['train_Id']"
   ]
  },
  {
   "cell_type": "code",
   "execution_count": 110,
   "id": "0c25f7f2",
   "metadata": {},
   "outputs": [
    {
     "data": {
      "text/html": [
       "<div>\n",
       "<style scoped>\n",
       "    .dataframe tbody tr th:only-of-type {\n",
       "        vertical-align: middle;\n",
       "    }\n",
       "\n",
       "    .dataframe tbody tr th {\n",
       "        vertical-align: top;\n",
       "    }\n",
       "\n",
       "    .dataframe thead th {\n",
       "        text-align: right;\n",
       "    }\n",
       "</style>\n",
       "<table border=\"1\" class=\"dataframe\">\n",
       "  <thead>\n",
       "    <tr style=\"text-align: right;\">\n",
       "      <th></th>\n",
       "      <th>query_Id</th>\n",
       "      <th>Id</th>\n",
       "      <th>predict</th>\n",
       "    </tr>\n",
       "  </thead>\n",
       "  <tbody>\n",
       "    <tr>\n",
       "      <th>0</th>\n",
       "      <td>100000-query</td>\n",
       "      <td>2760762-base</td>\n",
       "      <td>0</td>\n",
       "    </tr>\n",
       "    <tr>\n",
       "      <th>1</th>\n",
       "      <td>120863-query</td>\n",
       "      <td>2760762-base</td>\n",
       "      <td>0</td>\n",
       "    </tr>\n",
       "    <tr>\n",
       "      <th>2</th>\n",
       "      <td>163749-query</td>\n",
       "      <td>2760762-base</td>\n",
       "      <td>0</td>\n",
       "    </tr>\n",
       "    <tr>\n",
       "      <th>3</th>\n",
       "      <td>196770-query</td>\n",
       "      <td>2760762-base</td>\n",
       "      <td>0</td>\n",
       "    </tr>\n",
       "    <tr>\n",
       "      <th>4</th>\n",
       "      <td>100000-query</td>\n",
       "      <td>3209652-base</td>\n",
       "      <td>0</td>\n",
       "    </tr>\n",
       "    <tr>\n",
       "      <th>...</th>\n",
       "      <td>...</td>\n",
       "      <td>...</td>\n",
       "      <td>...</td>\n",
       "    </tr>\n",
       "    <tr>\n",
       "      <th>2999995</th>\n",
       "      <td>199999-query</td>\n",
       "      <td>4678196-base</td>\n",
       "      <td>0</td>\n",
       "    </tr>\n",
       "    <tr>\n",
       "      <th>2999996</th>\n",
       "      <td>199999-query</td>\n",
       "      <td>3401281-base</td>\n",
       "      <td>0</td>\n",
       "    </tr>\n",
       "    <tr>\n",
       "      <th>2999997</th>\n",
       "      <td>199999-query</td>\n",
       "      <td>4465577-base</td>\n",
       "      <td>0</td>\n",
       "    </tr>\n",
       "    <tr>\n",
       "      <th>2999998</th>\n",
       "      <td>199999-query</td>\n",
       "      <td>2385617-base</td>\n",
       "      <td>0</td>\n",
       "    </tr>\n",
       "    <tr>\n",
       "      <th>2999999</th>\n",
       "      <td>199999-query</td>\n",
       "      <td>4036799-base</td>\n",
       "      <td>0</td>\n",
       "    </tr>\n",
       "  </tbody>\n",
       "</table>\n",
       "<p>3000000 rows × 3 columns</p>\n",
       "</div>"
      ],
      "text/plain": [
       "             query_Id            Id  predict\n",
       "0        100000-query  2760762-base        0\n",
       "1        120863-query  2760762-base        0\n",
       "2        163749-query  2760762-base        0\n",
       "3        196770-query  2760762-base        0\n",
       "4        100000-query  3209652-base        0\n",
       "...               ...           ...      ...\n",
       "2999995  199999-query  4678196-base        0\n",
       "2999996  199999-query  3401281-base        0\n",
       "2999997  199999-query  4465577-base        0\n",
       "2999998  199999-query  2385617-base        0\n",
       "2999999  199999-query  4036799-base        0\n",
       "\n",
       "[3000000 rows x 3 columns]"
      ]
     },
     "execution_count": 110,
     "metadata": {},
     "output_type": "execute_result"
    }
   ],
   "source": [
    "test_res= valid_ml[['query_Id','Id', 'predict']]\n",
    "test_res"
   ]
  },
  {
   "cell_type": "markdown",
   "id": "74ad7c6e",
   "metadata": {},
   "source": [
    "## Расчет accuracy"
   ]
  },
  {
   "cell_type": "code",
   "execution_count": 92,
   "id": "6e388682",
   "metadata": {},
   "outputs": [
    {
     "data": {
      "text/html": [
       "<div>\n",
       "<style scoped>\n",
       "    .dataframe tbody tr th:only-of-type {\n",
       "        vertical-align: middle;\n",
       "    }\n",
       "\n",
       "    .dataframe tbody tr th {\n",
       "        vertical-align: top;\n",
       "    }\n",
       "\n",
       "    .dataframe thead th {\n",
       "        text-align: right;\n",
       "    }\n",
       "</style>\n",
       "<table border=\"1\" class=\"dataframe\">\n",
       "  <thead>\n",
       "    <tr style=\"text-align: right;\">\n",
       "      <th></th>\n",
       "      <th>query_Id</th>\n",
       "      <th>base_index</th>\n",
       "      <th>Id</th>\n",
       "      <th>predict</th>\n",
       "      <th>Expected</th>\n",
       "    </tr>\n",
       "  </thead>\n",
       "  <tbody>\n",
       "    <tr>\n",
       "      <th>0</th>\n",
       "      <td>100000-query</td>\n",
       "      <td>1954150</td>\n",
       "      <td>2760762-base</td>\n",
       "      <td>0</td>\n",
       "      <td>2676668-base</td>\n",
       "    </tr>\n",
       "    <tr>\n",
       "      <th>1</th>\n",
       "      <td>100000-query</td>\n",
       "      <td>2192372</td>\n",
       "      <td>3209652-base</td>\n",
       "      <td>0</td>\n",
       "      <td>2676668-base</td>\n",
       "    </tr>\n",
       "    <tr>\n",
       "      <th>2</th>\n",
       "      <td>100000-query</td>\n",
       "      <td>1225777</td>\n",
       "      <td>1542803-base</td>\n",
       "      <td>0</td>\n",
       "      <td>2676668-base</td>\n",
       "    </tr>\n",
       "    <tr>\n",
       "      <th>3</th>\n",
       "      <td>100000-query</td>\n",
       "      <td>2504096</td>\n",
       "      <td>3839597-base</td>\n",
       "      <td>0</td>\n",
       "      <td>2676668-base</td>\n",
       "    </tr>\n",
       "    <tr>\n",
       "      <th>4</th>\n",
       "      <td>100000-query</td>\n",
       "      <td>462353</td>\n",
       "      <td>508555-base</td>\n",
       "      <td>0</td>\n",
       "      <td>2676668-base</td>\n",
       "    </tr>\n",
       "    <tr>\n",
       "      <th>...</th>\n",
       "      <td>...</td>\n",
       "      <td>...</td>\n",
       "      <td>...</td>\n",
       "      <td>...</td>\n",
       "      <td>...</td>\n",
       "    </tr>\n",
       "    <tr>\n",
       "      <th>2999995</th>\n",
       "      <td>199798-query</td>\n",
       "      <td>1342473</td>\n",
       "      <td>1722464-base</td>\n",
       "      <td>0</td>\n",
       "      <td>1398385-base</td>\n",
       "    </tr>\n",
       "    <tr>\n",
       "      <th>2999996</th>\n",
       "      <td>199798-query</td>\n",
       "      <td>1225358</td>\n",
       "      <td>1542158-base</td>\n",
       "      <td>0</td>\n",
       "      <td>1398385-base</td>\n",
       "    </tr>\n",
       "    <tr>\n",
       "      <th>2999997</th>\n",
       "      <td>199798-query</td>\n",
       "      <td>1712812</td>\n",
       "      <td>2330339-base</td>\n",
       "      <td>0</td>\n",
       "      <td>1398385-base</td>\n",
       "    </tr>\n",
       "    <tr>\n",
       "      <th>2999998</th>\n",
       "      <td>199798-query</td>\n",
       "      <td>262224</td>\n",
       "      <td>277337-base</td>\n",
       "      <td>0</td>\n",
       "      <td>1398385-base</td>\n",
       "    </tr>\n",
       "    <tr>\n",
       "      <th>2999999</th>\n",
       "      <td>199798-query</td>\n",
       "      <td>328125</td>\n",
       "      <td>351549-base</td>\n",
       "      <td>0</td>\n",
       "      <td>1398385-base</td>\n",
       "    </tr>\n",
       "  </tbody>\n",
       "</table>\n",
       "<p>3000000 rows × 5 columns</p>\n",
       "</div>"
      ],
      "text/plain": [
       "             query_Id  base_index            Id  predict      Expected\n",
       "0        100000-query     1954150  2760762-base        0  2676668-base\n",
       "1        100000-query     2192372  3209652-base        0  2676668-base\n",
       "2        100000-query     1225777  1542803-base        0  2676668-base\n",
       "3        100000-query     2504096  3839597-base        0  2676668-base\n",
       "4        100000-query      462353   508555-base        0  2676668-base\n",
       "...               ...         ...           ...      ...           ...\n",
       "2999995  199798-query     1342473  1722464-base        0  1398385-base\n",
       "2999996  199798-query     1225358  1542158-base        0  1398385-base\n",
       "2999997  199798-query     1712812  2330339-base        0  1398385-base\n",
       "2999998  199798-query      262224   277337-base        0  1398385-base\n",
       "2999999  199798-query      328125   351549-base        0  1398385-base\n",
       "\n",
       "[3000000 rows x 5 columns]"
      ]
     },
     "execution_count": 92,
     "metadata": {},
     "output_type": "execute_result"
    }
   ],
   "source": [
    "test = test_res.merge(valid_answer, on='query_Id')\n",
    "test"
   ]
  },
  {
   "cell_type": "code",
   "execution_count": 93,
   "id": "9153db78",
   "metadata": {},
   "outputs": [],
   "source": [
    "t = t.query('predict == 1')"
   ]
  },
  {
   "cell_type": "code",
   "execution_count": 112,
   "id": "dbf866a7",
   "metadata": {},
   "outputs": [
    {
     "data": {
      "text/html": [
       "<div>\n",
       "<style scoped>\n",
       "    .dataframe tbody tr th:only-of-type {\n",
       "        vertical-align: middle;\n",
       "    }\n",
       "\n",
       "    .dataframe tbody tr th {\n",
       "        vertical-align: top;\n",
       "    }\n",
       "\n",
       "    .dataframe thead th {\n",
       "        text-align: right;\n",
       "    }\n",
       "</style>\n",
       "<table border=\"1\" class=\"dataframe\">\n",
       "  <thead>\n",
       "    <tr style=\"text-align: right;\">\n",
       "      <th></th>\n",
       "      <th>query_Id</th>\n",
       "      <th>base_index</th>\n",
       "      <th>Id</th>\n",
       "      <th>predict</th>\n",
       "      <th>Expected</th>\n",
       "      <th>p</th>\n",
       "    </tr>\n",
       "  </thead>\n",
       "  <tbody>\n",
       "    <tr>\n",
       "      <th>45</th>\n",
       "      <td>120863-query</td>\n",
       "      <td>1045012</td>\n",
       "      <td>1275733-base</td>\n",
       "      <td>1</td>\n",
       "      <td>205545-base</td>\n",
       "      <td>0</td>\n",
       "    </tr>\n",
       "    <tr>\n",
       "      <th>47</th>\n",
       "      <td>120863-query</td>\n",
       "      <td>2078060</td>\n",
       "      <td>2990696-base</td>\n",
       "      <td>1</td>\n",
       "      <td>205545-base</td>\n",
       "      <td>0</td>\n",
       "    </tr>\n",
       "    <tr>\n",
       "      <th>75</th>\n",
       "      <td>163749-query</td>\n",
       "      <td>196983</td>\n",
       "      <td>205545-base</td>\n",
       "      <td>1</td>\n",
       "      <td>1275733-base</td>\n",
       "      <td>0</td>\n",
       "    </tr>\n",
       "    <tr>\n",
       "      <th>128</th>\n",
       "      <td>135427-query</td>\n",
       "      <td>502039</td>\n",
       "      <td>556448-base</td>\n",
       "      <td>1</td>\n",
       "      <td>556448-base</td>\n",
       "      <td>0</td>\n",
       "    </tr>\n",
       "    <tr>\n",
       "      <th>180</th>\n",
       "      <td>161086-query</td>\n",
       "      <td>536120</td>\n",
       "      <td>598166-base</td>\n",
       "      <td>1</td>\n",
       "      <td>598166-base</td>\n",
       "      <td>0</td>\n",
       "    </tr>\n",
       "    <tr>\n",
       "      <th>...</th>\n",
       "      <td>...</td>\n",
       "      <td>...</td>\n",
       "      <td>...</td>\n",
       "      <td>...</td>\n",
       "      <td>...</td>\n",
       "      <td>...</td>\n",
       "    </tr>\n",
       "    <tr>\n",
       "      <th>2999927</th>\n",
       "      <td>198350-query</td>\n",
       "      <td>1167439</td>\n",
       "      <td>1455089-base</td>\n",
       "      <td>1</td>\n",
       "      <td>599524-base</td>\n",
       "      <td>0</td>\n",
       "    </tr>\n",
       "    <tr>\n",
       "      <th>2999929</th>\n",
       "      <td>198350-query</td>\n",
       "      <td>1503135</td>\n",
       "      <td>1978970-base</td>\n",
       "      <td>1</td>\n",
       "      <td>599524-base</td>\n",
       "      <td>0</td>\n",
       "    </tr>\n",
       "    <tr>\n",
       "      <th>2999931</th>\n",
       "      <td>198350-query</td>\n",
       "      <td>2060174</td>\n",
       "      <td>2957001-base</td>\n",
       "      <td>1</td>\n",
       "      <td>599524-base</td>\n",
       "      <td>0</td>\n",
       "    </tr>\n",
       "    <tr>\n",
       "      <th>2999933</th>\n",
       "      <td>198350-query</td>\n",
       "      <td>2525177</td>\n",
       "      <td>3883607-base</td>\n",
       "      <td>1</td>\n",
       "      <td>599524-base</td>\n",
       "      <td>0</td>\n",
       "    </tr>\n",
       "    <tr>\n",
       "      <th>2999934</th>\n",
       "      <td>198350-query</td>\n",
       "      <td>2554008</td>\n",
       "      <td>3944341-base</td>\n",
       "      <td>1</td>\n",
       "      <td>599524-base</td>\n",
       "      <td>0</td>\n",
       "    </tr>\n",
       "  </tbody>\n",
       "</table>\n",
       "<p>233321 rows × 6 columns</p>\n",
       "</div>"
      ],
      "text/plain": [
       "             query_Id  base_index            Id  predict      Expected  p\n",
       "45       120863-query     1045012  1275733-base        1   205545-base  0\n",
       "47       120863-query     2078060  2990696-base        1   205545-base  0\n",
       "75       163749-query      196983   205545-base        1  1275733-base  0\n",
       "128      135427-query      502039   556448-base        1   556448-base  0\n",
       "180      161086-query      536120   598166-base        1   598166-base  0\n",
       "...               ...         ...           ...      ...           ... ..\n",
       "2999927  198350-query     1167439  1455089-base        1   599524-base  0\n",
       "2999929  198350-query     1503135  1978970-base        1   599524-base  0\n",
       "2999931  198350-query     2060174  2957001-base        1   599524-base  0\n",
       "2999933  198350-query     2525177  3883607-base        1   599524-base  0\n",
       "2999934  198350-query     2554008  3944341-base        1   599524-base  0\n",
       "\n",
       "[233321 rows x 6 columns]"
      ]
     },
     "execution_count": 112,
     "metadata": {},
     "output_type": "execute_result"
    }
   ],
   "source": [
    "t"
   ]
  },
  {
   "cell_type": "code",
   "execution_count": 111,
   "id": "f40f2636",
   "metadata": {},
   "outputs": [
    {
     "data": {
      "text/plain": [
       "59.02"
      ]
     },
     "execution_count": 111,
     "metadata": {},
     "output_type": "execute_result"
    }
   ],
   "source": [
    "acc = 0\n",
    "for base, exp in zip(t['Id'], t['Expected']):\n",
    "    if base == exp:\n",
    "        acc += 1\n",
    "100 * acc / (test_res.shape[0] / k2)"
   ]
  },
  {
   "cell_type": "code",
   "execution_count": null,
   "id": "3b679e1c",
   "metadata": {},
   "outputs": [],
   "source": []
  }
 ],
 "metadata": {
  "kernelspec": {
   "display_name": "Python 3 (ipykernel)",
   "language": "python",
   "name": "python3"
  },
  "language_info": {
   "codemirror_mode": {
    "name": "ipython",
    "version": 3
   },
   "file_extension": ".py",
   "mimetype": "text/x-python",
   "name": "python",
   "nbconvert_exporter": "python",
   "pygments_lexer": "ipython3",
   "version": "3.11.5"
  },
  "toc": {
   "base_numbering": 1,
   "nav_menu": {},
   "number_sections": true,
   "sideBar": true,
   "skip_h1_title": true,
   "title_cell": "Table of Contents",
   "title_sidebar": "Contents",
   "toc_cell": true,
   "toc_position": {},
   "toc_section_display": true,
   "toc_window_display": true
  }
 },
 "nbformat": 4,
 "nbformat_minor": 5
}
